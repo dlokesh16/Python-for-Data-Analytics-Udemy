{
 "cells": [
  {
   "cell_type": "markdown",
   "id": "3713703e",
   "metadata": {},
   "source": [
    "The difference between a **list** and an **array** is that **list can contain a mix of datatypes** but **an array can contain elements of only one datatype** "
   ]
  },
  {
   "cell_type": "code",
   "execution_count": 1,
   "id": "bde28310",
   "metadata": {},
   "outputs": [],
   "source": [
    "import numpy as np"
   ]
  },
  {
   "cell_type": "code",
   "execution_count": 2,
   "id": "bf903b56",
   "metadata": {},
   "outputs": [],
   "source": [
    "list1 = [1, 2.3, True, 'List']"
   ]
  },
  {
   "cell_type": "code",
   "execution_count": 3,
   "id": "a42e5796",
   "metadata": {},
   "outputs": [
    {
     "name": "stdout",
     "output_type": "stream",
     "text": [
      "[1, 2.3, True, 'List']\n"
     ]
    }
   ],
   "source": [
    "print(list1) #datatypes are preserved"
   ]
  },
  {
   "cell_type": "code",
   "execution_count": 4,
   "id": "356ed965",
   "metadata": {},
   "outputs": [],
   "source": [
    "array1 = np.array([1, 2.3, True, 'List'])"
   ]
  },
  {
   "cell_type": "code",
   "execution_count": 5,
   "id": "20063fbe",
   "metadata": {},
   "outputs": [
    {
     "name": "stdout",
     "output_type": "stream",
     "text": [
      "['1' '2.3' 'True' 'List']\n"
     ]
    }
   ],
   "source": [
    "print(array1) #contains only one datatype"
   ]
  },
  {
   "cell_type": "markdown",
   "id": "ed07f575",
   "metadata": {},
   "source": [
    "np.array() converts all the mixed datatypes to a single datatype internally which can accommodate all the elements"
   ]
  },
  {
   "cell_type": "code",
   "execution_count": 6,
   "id": "6f82e1f9",
   "metadata": {},
   "outputs": [],
   "source": [
    "array1 = np.array([1, 2, 3, True])"
   ]
  },
  {
   "cell_type": "code",
   "execution_count": 7,
   "id": "c593b913",
   "metadata": {},
   "outputs": [
    {
     "name": "stdout",
     "output_type": "stream",
     "text": [
      "[1 2 3 1]\n"
     ]
    }
   ],
   "source": [
    "print(array1) #boolean is converted to int"
   ]
  },
  {
   "cell_type": "code",
   "execution_count": 8,
   "id": "1fdc66e4",
   "metadata": {},
   "outputs": [],
   "source": [
    "array1 = np.array([1.1, 2.2, 3.3, True])"
   ]
  },
  {
   "cell_type": "code",
   "execution_count": 9,
   "id": "8cd2e6dc",
   "metadata": {},
   "outputs": [
    {
     "name": "stdout",
     "output_type": "stream",
     "text": [
      "[1.1 2.2 3.3 1. ]\n"
     ]
    }
   ],
   "source": [
    "print(array1) #boolean is converted to float"
   ]
  },
  {
   "cell_type": "code",
   "execution_count": 10,
   "id": "b4028299",
   "metadata": {},
   "outputs": [],
   "source": [
    "array1 = np.array([True, False, 'True', 'False'])"
   ]
  },
  {
   "cell_type": "code",
   "execution_count": 11,
   "id": "9c39f73a",
   "metadata": {},
   "outputs": [
    {
     "name": "stdout",
     "output_type": "stream",
     "text": [
      "['True' 'False' 'True' 'False']\n"
     ]
    }
   ],
   "source": [
    "print(array1) #boolean is converted to string"
   ]
  },
  {
   "cell_type": "code",
   "execution_count": 12,
   "id": "943b3e96",
   "metadata": {},
   "outputs": [],
   "source": [
    "array1 = np.array([1, 2, 3.3])"
   ]
  },
  {
   "cell_type": "code",
   "execution_count": 13,
   "id": "5091947d",
   "metadata": {},
   "outputs": [
    {
     "name": "stdout",
     "output_type": "stream",
     "text": [
      "[1.  2.  3.3]\n"
     ]
    }
   ],
   "source": [
    "print(array1) #int is converted to float"
   ]
  },
  {
   "cell_type": "code",
   "execution_count": 14,
   "id": "e0234325",
   "metadata": {},
   "outputs": [],
   "source": [
    "array1 = np.array([1, 2, 3, 'String'])"
   ]
  },
  {
   "cell_type": "code",
   "execution_count": 15,
   "id": "468d599b",
   "metadata": {},
   "outputs": [
    {
     "name": "stdout",
     "output_type": "stream",
     "text": [
      "['1' '2' '3' 'String']\n"
     ]
    }
   ],
   "source": [
    "print(array1) #int is converted to string"
   ]
  },
  {
   "cell_type": "code",
   "execution_count": 16,
   "id": "3286a84f",
   "metadata": {},
   "outputs": [],
   "source": [
    "array1 = np.array([1.1, 2.2, 3.3, 'String'])"
   ]
  },
  {
   "cell_type": "code",
   "execution_count": 17,
   "id": "60b392ad",
   "metadata": {
    "scrolled": true
   },
   "outputs": [
    {
     "name": "stdout",
     "output_type": "stream",
     "text": [
      "['1.1' '2.2' '3.3' 'String']\n"
     ]
    }
   ],
   "source": [
    "print(array1) #float is converted to string"
   ]
  },
  {
   "cell_type": "markdown",
   "id": "f839fdd7",
   "metadata": {},
   "source": [
    "Also, numpy arrays have many in-built methods when compared to python lists which are very useful for analytics and data science"
   ]
  },
  {
   "cell_type": "markdown",
   "id": "a0ff67cd",
   "metadata": {},
   "source": [
    "-------"
   ]
  },
  {
   "cell_type": "markdown",
   "id": "068632bc",
   "metadata": {},
   "source": [
    "Slicing in arrays works the same way as lists but important thing to note is\n",
    "* when a slice of a list is assigned to another list, a new list is created\n",
    "* when a slice of an array is assigned to another array, it is just a copy of the original array"
   ]
  },
  {
   "cell_type": "code",
   "execution_count": 19,
   "id": "6a4ab46f",
   "metadata": {},
   "outputs": [
    {
     "data": {
      "text/plain": [
       "[True, 'List']"
      ]
     },
     "execution_count": 19,
     "metadata": {},
     "output_type": "execute_result"
    }
   ],
   "source": [
    "list2 = list1[2:]\n",
    "list2"
   ]
  },
  {
   "cell_type": "code",
   "execution_count": 20,
   "id": "a4ac49b6",
   "metadata": {},
   "outputs": [
    {
     "name": "stdout",
     "output_type": "stream",
     "text": [
      "[1, 2.3, True, 'List']\n",
      "[False, 'List']\n"
     ]
    }
   ],
   "source": [
    "list2[0] = False #only list2 is modified\n",
    "print(list1)\n",
    "print(list2)"
   ]
  },
  {
   "cell_type": "code",
   "execution_count": 21,
   "id": "e899744e",
   "metadata": {},
   "outputs": [
    {
     "data": {
      "text/plain": [
       "array(['3.3', 'String'], dtype='<U32')"
      ]
     },
     "execution_count": 21,
     "metadata": {},
     "output_type": "execute_result"
    }
   ],
   "source": [
    "array2 = array1[2:]\n",
    "array2"
   ]
  },
  {
   "cell_type": "code",
   "execution_count": 23,
   "id": "977d078b",
   "metadata": {},
   "outputs": [
    {
     "name": "stdout",
     "output_type": "stream",
     "text": [
      "['1.1' '2.2' '99.99' 'String']\n",
      "['99.99' 'String']\n"
     ]
    }
   ],
   "source": [
    "array2[0] = 99.99 #both array1 and array2 are modified\n",
    "print(array1)\n",
    "print(array2)"
   ]
  },
  {
   "cell_type": "markdown",
   "id": "15765800",
   "metadata": {},
   "source": [
    "as in lists, arrays do have a copy method and we use this method to create an actual copy of the array and work with the copy independently"
   ]
  },
  {
   "cell_type": "code",
   "execution_count": 26,
   "id": "4e1f051f",
   "metadata": {},
   "outputs": [
    {
     "name": "stdout",
     "output_type": "stream",
     "text": [
      "['1.1' '2.2' '99.99' 'String']\n",
      "['1.1' '2.2' '99.99' 'String']\n"
     ]
    }
   ],
   "source": [
    "array3 = array1.copy()\n",
    "print(array1)\n",
    "print(array3)"
   ]
  },
  {
   "cell_type": "code",
   "execution_count": 27,
   "id": "801bd215",
   "metadata": {},
   "outputs": [
    {
     "name": "stdout",
     "output_type": "stream",
     "text": [
      "['1.1' '2.2' '99.99' 'String']\n",
      "['1.1' '2.2' '99.99' 'Array3']\n"
     ]
    }
   ],
   "source": [
    "array3[3] = 'Array3'\n",
    "print(array1)\n",
    "print(array3)"
   ]
  }
 ],
 "metadata": {
  "kernelspec": {
   "display_name": "Python 3",
   "language": "python",
   "name": "python3"
  },
  "language_info": {
   "codemirror_mode": {
    "name": "ipython",
    "version": 3
   },
   "file_extension": ".py",
   "mimetype": "text/x-python",
   "name": "python",
   "nbconvert_exporter": "python",
   "pygments_lexer": "ipython3",
   "version": "3.8.8"
  }
 },
 "nbformat": 4,
 "nbformat_minor": 5
}
