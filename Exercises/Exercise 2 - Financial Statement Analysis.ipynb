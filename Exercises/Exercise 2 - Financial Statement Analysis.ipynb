{
 "cells": [
  {
   "cell_type": "markdown",
   "metadata": {},
   "source": [
    "## Financial Statement Analysis\n",
    "<br>Scenario: You are a Data Scientist working for a consulting firm. One of your colleagues from the Auditing department has asked you to help them assess the financial statement of organisation X.\n",
    "<br>You have been supplied with two lists of data: monthly revenue and monthly expenses for the financial year in question.\n",
    "<br>Your task is to calculate the following financial metrics:\n",
    "- profit for each month\n",
    "- profit after tax for each month (the tax rate is 30%)\n",
    "- profit margin for each month - equals to profit after tax divided by revenue\n",
    "- good months - where the profit after tax was greater than the mean for the year\n",
    "- bad months - where the profit after tax was less than the mean for the year\n",
    "- the best month - where the profit after tax was max for the year\n",
    "- the worst month - where the profit after tax was min for the year\n",
    "<br><br>\n",
    "- All results need to be presented as lists (even for best and worst month).\n",
    "- Results for dollar values need to be calculated with \\\\$0.01 precision, but need to be presented in Units of \\\\$1,000 (i.e. 1k) with no decimal points.\n",
    "- Results for the profit margin ratio need to be presented in units of % with no decimal points.\n",
    "<br><br>Note: Your colleague has warned you that it is okay for tax for any given month to be negative (in accounting terms, negative tax translates into a deferred tax asset)"
   ]
  },
  {
   "cell_type": "code",
   "execution_count": 1,
   "metadata": {},
   "outputs": [],
   "source": [
    "#Data \n",
    "revenue = [14574.49, 7606.46, 8611.41, 9175.41, 8058.65, 8105.44, 11496.28, 9766.09, 10305.32, 14379.96, 10713.97, 15433.50]\n",
    "expenses = [12051.82, 5695.07, 12319.20, 12089.72, 8658.57, 840.20, 3285.73, 5821.12, 6976.93, 16618.61, 10054.37, 3803.96]"
   ]
  },
  {
   "cell_type": "code",
   "execution_count": 2,
   "metadata": {},
   "outputs": [
    {
     "data": {
      "text/plain": [
       "[2522.67,\n",
       " 1911.3900000000003,\n",
       " -3707.790000000001,\n",
       " -2914.3099999999995,\n",
       " -599.9200000000001,\n",
       " 7265.24,\n",
       " 8210.550000000001,\n",
       " 3944.9700000000003,\n",
       " 3328.3899999999994,\n",
       " -2238.6500000000015,\n",
       " 659.5999999999985,\n",
       " 11629.54]"
      ]
     },
     "execution_count": 2,
     "metadata": {},
     "output_type": "execute_result"
    }
   ],
   "source": [
    "#Profit for each month = revenue - expenses\n",
    "profit = []\n",
    "for i in range(len(revenue)):\n",
    "    profit.append(revenue[i] - expenses[i])\n",
    "profit"
   ]
  },
  {
   "cell_type": "code",
   "execution_count": 3,
   "metadata": {
    "scrolled": true
   },
   "outputs": [
    {
     "data": {
      "text/plain": [
       "[756.8,\n",
       " 573.42,\n",
       " -1112.34,\n",
       " -874.29,\n",
       " -179.98,\n",
       " 2179.57,\n",
       " 2463.17,\n",
       " 1183.49,\n",
       " 998.52,\n",
       " -671.6,\n",
       " 197.88,\n",
       " 3488.86]"
      ]
     },
     "execution_count": 3,
     "metadata": {},
     "output_type": "execute_result"
    }
   ],
   "source": [
    "#Tax rate is 30% = Profit for each month * 0.3, rounded to 2 decimal points\n",
    "tax = [round(i * 0.3, 2) for i in profit]\n",
    "tax"
   ]
  },
  {
   "cell_type": "code",
   "execution_count": 4,
   "metadata": {},
   "outputs": [
    {
     "data": {
      "text/plain": [
       "[1765.8700000000001,\n",
       " 1337.9700000000003,\n",
       " -2595.4500000000007,\n",
       " -2040.0199999999995,\n",
       " -419.94000000000005,\n",
       " 5085.67,\n",
       " 5747.380000000001,\n",
       " 2761.4800000000005,\n",
       " 2329.8699999999994,\n",
       " -1567.0500000000015,\n",
       " 461.71999999999855,\n",
       " 8140.68]"
      ]
     },
     "execution_count": 4,
     "metadata": {},
     "output_type": "execute_result"
    }
   ],
   "source": [
    "#Profit after tax = Profit for each month - Tax for each month\n",
    "profit_after_tax = list()\n",
    "for i in range(0, len(profit)):\n",
    "    profit_after_tax.append(profit[i] - tax[i])\n",
    "profit_after_tax"
   ]
  },
  {
   "cell_type": "code",
   "execution_count": 5,
   "metadata": {},
   "outputs": [
    {
     "data": {
      "text/plain": [
       "[12, 18, -30, -22, -5, 63, 50, 28, 23, -11, 4, 53]"
      ]
     },
     "execution_count": 5,
     "metadata": {},
     "output_type": "execute_result"
    }
   ],
   "source": [
    "#Profit margin for each month = profit after tax for each month divided by revenue for each month\n",
    "#Profit margin needs to be represented in % with no decimal points\n",
    "profit_margin = list()\n",
    "for i in range(0, len(profit_after_tax)):\n",
    "    profit_margin.append(int(round(profit_after_tax[i] / revenue[i], 2) * 100))\n",
    "profit_margin"
   ]
  },
  {
   "cell_type": "code",
   "execution_count": 6,
   "metadata": {},
   "outputs": [
    {
     "data": {
      "text/plain": [
       "1750.6816666666666"
      ]
     },
     "execution_count": 6,
     "metadata": {},
     "output_type": "execute_result"
    }
   ],
   "source": [
    "#Mean of profit after tax for the year\n",
    "mean_pat = sum(profit_after_tax) / len(profit_after_tax)\n",
    "mean_pat"
   ]
  },
  {
   "cell_type": "code",
   "execution_count": 7,
   "metadata": {},
   "outputs": [
    {
     "data": {
      "text/plain": [
       "[True, False, False, False, False, True, True, True, True, False, False, True]"
      ]
     },
     "execution_count": 7,
     "metadata": {},
     "output_type": "execute_result"
    }
   ],
   "source": [
    "#Good months - where the profit after tax was greater than the mean of profit after tax for the year\n",
    "good_months = list()\n",
    "for i in range(0, len(profit_after_tax)):\n",
    "        good_months.append(profit_after_tax[i] > mean_pat)\n",
    "good_months"
   ]
  },
  {
   "cell_type": "code",
   "execution_count": 8,
   "metadata": {},
   "outputs": [
    {
     "data": {
      "text/plain": [
       "[False, True, True, True, True, False, False, False, False, True, True, False]"
      ]
     },
     "execution_count": 8,
     "metadata": {},
     "output_type": "execute_result"
    }
   ],
   "source": [
    "#Bad months - where the profit after tax was less than the mean of profit after tax for the year\n",
    "bad_months = list()\n",
    "for i in range(0, len(profit_after_tax)):\n",
    "        bad_months.append(profit_after_tax[i] < mean_pat)\n",
    "bad_months"
   ]
  },
  {
   "cell_type": "code",
   "execution_count": 9,
   "metadata": {},
   "outputs": [
    {
     "data": {
      "text/plain": [
       "[False,\n",
       " False,\n",
       " False,\n",
       " False,\n",
       " False,\n",
       " False,\n",
       " False,\n",
       " False,\n",
       " False,\n",
       " False,\n",
       " False,\n",
       " True]"
      ]
     },
     "execution_count": 9,
     "metadata": {},
     "output_type": "execute_result"
    }
   ],
   "source": [
    "#Best month - where the profit after tax was max for the year\n",
    "best_month = []\n",
    "for i in range (0, len(profit_after_tax)):\n",
    "    best_month.append(profit_after_tax[i] == max(profit_after_tax))\n",
    "best_month"
   ]
  },
  {
   "cell_type": "code",
   "execution_count": 10,
   "metadata": {},
   "outputs": [
    {
     "data": {
      "text/plain": [
       "[False,\n",
       " False,\n",
       " True,\n",
       " False,\n",
       " False,\n",
       " False,\n",
       " False,\n",
       " False,\n",
       " False,\n",
       " False,\n",
       " False,\n",
       " False]"
      ]
     },
     "execution_count": 10,
     "metadata": {},
     "output_type": "execute_result"
    }
   ],
   "source": [
    "#Worst month - where the profit after tax was min for the year\n",
    "worst_month = []\n",
    "for i in range (0, len(profit_after_tax)):\n",
    "    worst_month.append(profit_after_tax[i] == min(profit_after_tax))\n",
    "worst_month"
   ]
  },
  {
   "cell_type": "code",
   "execution_count": 11,
   "metadata": {},
   "outputs": [],
   "source": [
    "#Convert all dollar calculations to Units Of One Thousand Dollars\n",
    "revenue_1000 = [round(i / 1000, 0) for i in revenue]\n",
    "expenses_1000 = [round(i / 1000, 0) for i in expenses]\n",
    "profit_1000 = [round(i, 1000) for i in profit]\n",
    "profit_after_tax_1000 = [round(i / 1000, 0) for i in profit_after_tax]\n",
    "\n",
    "revenue_1000 = [int(i) for i in revenue_1000]\n",
    "expenses_1000 = [int(i) for i in expenses_1000]\n",
    "profit_1000 = [int(i) for i in profit_1000]\n",
    "profit_after_tax_1000 = [int(i) for i in profit_after_tax_1000]"
   ]
  },
  {
   "cell_type": "code",
   "execution_count": 12,
   "metadata": {},
   "outputs": [
    {
     "name": "stdout",
     "output_type": "stream",
     "text": [
      "Revenue :\n",
      "[15, 8, 9, 9, 8, 8, 11, 10, 10, 14, 11, 15]\n",
      "Expenses :\n",
      "[12, 6, 12, 12, 9, 1, 3, 6, 7, 17, 10, 4]\n",
      "Profit :\n",
      "[2522, 1911, -3707, -2914, -599, 7265, 8210, 3944, 3328, -2238, 659, 11629]\n",
      "Profit after tax :\n",
      "[2, 1, -3, -2, 0, 5, 6, 3, 2, -2, 0, 8]\n",
      "Profit margin :\n",
      "[12, 18, -30, -22, -5, 63, 50, 28, 23, -11, 4, 53]\n",
      "Good months :\n",
      "[True, False, False, False, False, True, True, True, True, False, False, True]\n",
      "Bad months :\n",
      "[False, True, True, True, True, False, False, False, False, True, True, False]\n",
      "Best month :\n",
      "[False, False, False, False, False, False, False, False, False, False, False, True]\n",
      "Worst month :\n",
      "[False, False, True, False, False, False, False, False, False, False, False, False]\n"
     ]
    }
   ],
   "source": [
    "print (\"Revenue :\") \n",
    "print (revenue_1000)\n",
    "print (\"Expenses :\") \n",
    "print (expenses_1000)\n",
    "print (\"Profit :\")\n",
    "print(profit_1000)\n",
    "print (\"Profit after tax :\")\n",
    "print (profit_after_tax_1000)\n",
    "print (\"Profit margin :\")\n",
    "print (profit_margin)\n",
    "print (\"Good months :\")\n",
    "print (good_months)\n",
    "print (\"Bad months :\")\n",
    "print (bad_months)\n",
    "print (\"Best month :\")\n",
    "print (best_month)\n",
    "print (\"Worst month :\")\n",
    "print (worst_month)"
   ]
  }
 ],
 "metadata": {
  "kernelspec": {
   "display_name": "Python [conda env:root] *",
   "language": "python",
   "name": "conda-root-py"
  },
  "language_info": {
   "codemirror_mode": {
    "name": "ipython",
    "version": 3
   },
   "file_extension": ".py",
   "mimetype": "text/x-python",
   "name": "python",
   "nbconvert_exporter": "python",
   "pygments_lexer": "ipython3",
   "version": "3.8.8"
  }
 },
 "nbformat": 4,
 "nbformat_minor": 1
}
