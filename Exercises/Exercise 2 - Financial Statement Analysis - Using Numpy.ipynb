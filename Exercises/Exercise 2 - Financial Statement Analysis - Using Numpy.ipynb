{
 "cells": [
  {
   "cell_type": "markdown",
   "metadata": {},
   "source": [
    "## Financial Statement Analysis\n",
    "<br>Scenario: You are a Data Scientist working for a consulting firm. One of your colleagues from the Auditing department has asked you to help them assess the financial statement of organisation X.\n",
    "<br>You have been supplied with two lists of data: monthly revenue and monthly expenses for the financial year in question.\n",
    "<br>Your task is to calculate the following financial metrics:\n",
    "- profit for each month\n",
    "- profit after tax for each month (the tax rate is 30%)\n",
    "- profit margin for each month - equals to profit after tax divided by revenue\n",
    "- good months - where the profit after tax was greater than the mean for the year\n",
    "- bad months - where the profit after tax was less than the mean for the year\n",
    "- the best month - where the profit after tax was max for the year\n",
    "- the worst month - where the profit after tax was min for the year\n",
    "<br><br>\n",
    "- All results need to be presented as lists (even for best and worst month).\n",
    "- Results for dollar values need to be calculated with \\\\$0.01 precision, but need to be presented in Units of \\\\$1,000 (i.e. 1k) with no decimal points.\n",
    "- Results for the profit margin ratio need to be presented in units of % with no decimal points.\n",
    "<br><br>Note: Your colleague has warned you that it is okay for tax for any given month to be negative (in accounting terms, negative tax translates into a deferred tax asset)"
   ]
  },
  {
   "cell_type": "code",
   "execution_count": 1,
   "metadata": {},
   "outputs": [],
   "source": [
    "import numpy as np"
   ]
  },
  {
   "cell_type": "code",
   "execution_count": 2,
   "metadata": {},
   "outputs": [],
   "source": [
    "#Data \n",
    "revenue = [14574.49, 7606.46, 8611.41, 9175.41, 8058.65, 8105.44, 11496.28, 9766.09, 10305.32, 14379.96, 10713.97, 15433.50]\n",
    "expenses = [12051.82, 5695.07, 12319.20, 12089.72, 8658.57, 840.20, 3285.73, 5821.12, 6976.93, 16618.61, 10054.37, 3803.96]"
   ]
  },
  {
   "cell_type": "code",
   "execution_count": 3,
   "metadata": {},
   "outputs": [],
   "source": [
    "revenue = np.array(revenue)\n",
    "expenses = np.array(expenses)"
   ]
  },
  {
   "cell_type": "code",
   "execution_count": 4,
   "metadata": {},
   "outputs": [
    {
     "data": {
      "text/plain": [
       "array([ 2522.67,  1911.39, -3707.79, -2914.31,  -599.92,  7265.24,\n",
       "        8210.55,  3944.97,  3328.39, -2238.65,   659.6 , 11629.54])"
      ]
     },
     "execution_count": 4,
     "metadata": {},
     "output_type": "execute_result"
    }
   ],
   "source": [
    "#Profit for each month = revenue - expenses\n",
    "profit = revenue - expenses\n",
    "profit"
   ]
  },
  {
   "cell_type": "code",
   "execution_count": 5,
   "metadata": {},
   "outputs": [
    {
     "data": {
      "text/plain": [
       "array([  756.8 ,   573.42, -1112.34,  -874.29,  -179.98,  2179.57,\n",
       "        2463.17,  1183.49,   998.52,  -671.6 ,   197.88,  3488.86])"
      ]
     },
     "execution_count": 5,
     "metadata": {},
     "output_type": "execute_result"
    }
   ],
   "source": [
    "#Tax rate is 30% = Profit for each month * 0.3, rounded to 2 decimal points\n",
    "tax = np.round(profit * 0.3, 2)\n",
    "tax"
   ]
  },
  {
   "cell_type": "code",
   "execution_count": 6,
   "metadata": {},
   "outputs": [
    {
     "data": {
      "text/plain": [
       "array([ 1765.87,  1337.97, -2595.45, -2040.02,  -419.94,  5085.67,\n",
       "        5747.38,  2761.48,  2329.87, -1567.05,   461.72,  8140.68])"
      ]
     },
     "execution_count": 6,
     "metadata": {},
     "output_type": "execute_result"
    }
   ],
   "source": [
    "#Profit after tax = Profit for each month - Tax for each month\n",
    "profit_after_tax = profit - tax\n",
    "profit_after_tax"
   ]
  },
  {
   "cell_type": "code",
   "execution_count": 7,
   "metadata": {},
   "outputs": [
    {
     "data": {
      "text/plain": [
       "array([ 12,  18, -30, -22,  -5,  63,  50,  28,  23, -11,   4,  53])"
      ]
     },
     "execution_count": 7,
     "metadata": {},
     "output_type": "execute_result"
    }
   ],
   "source": [
    "#Profit margin for each month = profit after tax for each month divided by revenue for each month\n",
    "#Profit margin needs to be represented in % with no decimal points\n",
    "profit_margin = np.int32(np.round(profit_after_tax / revenue, 2) * 100)\n",
    "profit_margin"
   ]
  },
  {
   "cell_type": "code",
   "execution_count": 8,
   "metadata": {},
   "outputs": [
    {
     "data": {
      "text/plain": [
       "1750.6816666666664"
      ]
     },
     "execution_count": 8,
     "metadata": {},
     "output_type": "execute_result"
    }
   ],
   "source": [
    "#Mean of profit after tax for the year\n",
    "mean_pat = profit_after_tax.mean()\n",
    "mean_pat"
   ]
  },
  {
   "cell_type": "code",
   "execution_count": 9,
   "metadata": {},
   "outputs": [
    {
     "data": {
      "text/plain": [
       "array([ True, False, False, False, False,  True,  True,  True,  True,\n",
       "       False, False,  True])"
      ]
     },
     "execution_count": 9,
     "metadata": {},
     "output_type": "execute_result"
    }
   ],
   "source": [
    "#Good months - where the profit after tax was greater than the mean of profit after tax for the year\n",
    "good_months = profit_after_tax > mean_pat\n",
    "good_months"
   ]
  },
  {
   "cell_type": "code",
   "execution_count": 10,
   "metadata": {},
   "outputs": [
    {
     "data": {
      "text/plain": [
       "array([False,  True,  True,  True,  True, False, False, False, False,\n",
       "        True,  True, False])"
      ]
     },
     "execution_count": 10,
     "metadata": {},
     "output_type": "execute_result"
    }
   ],
   "source": [
    "#Bad months - where the profit after tax was less than the mean of profit after tax for the year\n",
    "bad_months = profit_after_tax < mean_pat\n",
    "bad_months"
   ]
  },
  {
   "cell_type": "code",
   "execution_count": 11,
   "metadata": {},
   "outputs": [
    {
     "data": {
      "text/plain": [
       "array([False, False, False, False, False, False, False, False, False,\n",
       "       False, False,  True])"
      ]
     },
     "execution_count": 11,
     "metadata": {},
     "output_type": "execute_result"
    }
   ],
   "source": [
    "#Best month - where the profit after tax was max for the year\n",
    "best_month = profit_after_tax == profit_after_tax.max()\n",
    "best_month"
   ]
  },
  {
   "cell_type": "code",
   "execution_count": 12,
   "metadata": {},
   "outputs": [
    {
     "data": {
      "text/plain": [
       "array([False, False,  True, False, False, False, False, False, False,\n",
       "       False, False, False])"
      ]
     },
     "execution_count": 12,
     "metadata": {},
     "output_type": "execute_result"
    }
   ],
   "source": [
    "#Worst month - where the profit after tax was min for the year\n",
    "worst_month = profit_after_tax == profit_after_tax.min()\n",
    "worst_month"
   ]
  },
  {
   "cell_type": "code",
   "execution_count": 13,
   "metadata": {},
   "outputs": [],
   "source": [
    "#Convert all dollar calculations to Units Of One Thousand Dollars\n",
    "revenue_1000 = np.int32(np.round(revenue / 1000, 2))\n",
    "expenses_1000 = np.int32(np.round(expenses / 1000, 2))\n",
    "profit_1000 = np.int32(np.round(profit / 1000, 2))\n",
    "profit_after_tax_1000 = np.int32(np.round(profit_after_tax / 1000, 2))"
   ]
  },
  {
   "cell_type": "code",
   "execution_count": 14,
   "metadata": {},
   "outputs": [
    {
     "name": "stdout",
     "output_type": "stream",
     "text": [
      "Revenue :\n",
      "[14  7  8  9  8  8 11  9 10 14 10 15]\n",
      "Expenses :\n",
      "[12  5 12 12  8  0  3  5  6 16 10  3]\n",
      "Profit :\n",
      "[ 2  1 -3 -2  0  7  8  3  3 -2  0 11]\n",
      "Profit after tax :\n",
      "[ 1  1 -2 -2  0  5  5  2  2 -1  0  8]\n",
      "Profit margin :\n",
      "[ 12  18 -30 -22  -5  63  50  28  23 -11   4  53]\n",
      "Good months :\n",
      "[ True False False False False  True  True  True  True False False  True]\n",
      "Bad months :\n",
      "[False  True  True  True  True False False False False  True  True False]\n",
      "Best month :\n",
      "[False False False False False False False False False False False  True]\n",
      "Worst month :\n",
      "[False False  True False False False False False False False False False]\n"
     ]
    }
   ],
   "source": [
    "print (\"Revenue :\") \n",
    "print (revenue_1000)\n",
    "print (\"Expenses :\") \n",
    "print (expenses_1000)\n",
    "print (\"Profit :\")\n",
    "print(profit_1000)\n",
    "print (\"Profit after tax :\")\n",
    "print (profit_after_tax_1000)\n",
    "print (\"Profit margin :\")\n",
    "print (profit_margin)\n",
    "print (\"Good months :\")\n",
    "print (good_months)\n",
    "print (\"Bad months :\")\n",
    "print (bad_months)\n",
    "print (\"Best month :\")\n",
    "print (best_month)\n",
    "print (\"Worst month :\")\n",
    "print (worst_month)"
   ]
  }
 ],
 "metadata": {
  "kernelspec": {
   "display_name": "Python [conda env:root] *",
   "language": "python",
   "name": "conda-root-py"
  },
  "language_info": {
   "codemirror_mode": {
    "name": "ipython",
    "version": 3
   },
   "file_extension": ".py",
   "mimetype": "text/x-python",
   "name": "python",
   "nbconvert_exporter": "python",
   "pygments_lexer": "ipython3",
   "version": "3.8.8"
  }
 },
 "nbformat": 4,
 "nbformat_minor": 1
}
