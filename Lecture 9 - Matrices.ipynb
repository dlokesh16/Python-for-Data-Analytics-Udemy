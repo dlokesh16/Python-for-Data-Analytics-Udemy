{
 "cells": [
  {
   "cell_type": "markdown",
   "id": "8e1a7442",
   "metadata": {},
   "source": [
    "### Matrices\n",
    "In this notebook, we will go through matrix, creation and initiation, accessing elements using NumPy"
   ]
  },
  {
   "cell_type": "markdown",
   "id": "c6cf0af3",
   "metadata": {},
   "source": [
    "Matrices act like a table with rows and columns in Python.\n",
    "<br>Matrices can contain only one type of data.\n",
    "<br><br>Matrices can be created using NumPy in the following ways:\n",
    "* using **np.reshape(i, d, order)** where\n",
    "  * **i** is **input data**\n",
    "  * **d** is **required dimension** passed as a **tuple**\n",
    "  * **order** is **the default behaviour of populating the data**\n",
    "    * if **C**, **row-wise population**, based on the C-langugage (default behaviour)\n",
    "    * if **F**, **column-wise population** based on the Fortron-language\n",
    "* using **data.reshape(d)**\n",
    "  * **d** is **required dimension** passed as a **tuple**\n",
    "* using **np.array()**"
   ]
  },
  {
   "cell_type": "code",
   "execution_count": 1,
   "id": "fa8589ce",
   "metadata": {},
   "outputs": [],
   "source": [
    "import numpy as np"
   ]
  },
  {
   "cell_type": "code",
   "execution_count": 2,
   "id": "93d463f8",
   "metadata": {},
   "outputs": [
    {
     "data": {
      "text/plain": [
       "array([ 0,  1,  2,  3,  4,  5,  6,  7,  8,  9, 10, 11, 12, 13, 14, 15, 16,\n",
       "       17, 18, 19])"
      ]
     },
     "execution_count": 2,
     "metadata": {},
     "output_type": "execute_result"
    }
   ],
   "source": [
    "data = np.arange(0, 20)\n",
    "data"
   ]
  },
  {
   "cell_type": "code",
   "execution_count": 3,
   "id": "c193423a",
   "metadata": {},
   "outputs": [
    {
     "data": {
      "text/plain": [
       "array([[ 0,  1,  2,  3],\n",
       "       [ 4,  5,  6,  7],\n",
       "       [ 8,  9, 10, 11],\n",
       "       [12, 13, 14, 15],\n",
       "       [16, 17, 18, 19]])"
      ]
     },
     "execution_count": 3,
     "metadata": {},
     "output_type": "execute_result"
    }
   ],
   "source": [
    "#using np.reshape()\n",
    "mat1 = np.reshape(data, (5, 4)) #by default, row-wise population\n",
    "mat1"
   ]
  },
  {
   "cell_type": "code",
   "execution_count": 4,
   "id": "c2bb15f1",
   "metadata": {},
   "outputs": [
    {
     "data": {
      "text/plain": [
       "array([[ 0,  1,  2,  3],\n",
       "       [ 4,  5,  6,  7],\n",
       "       [ 8,  9, 10, 11],\n",
       "       [12, 13, 14, 15],\n",
       "       [16, 17, 18, 19]])"
      ]
     },
     "execution_count": 4,
     "metadata": {},
     "output_type": "execute_result"
    }
   ],
   "source": [
    "mat1 = np.reshape(data, (5, 4), order='C') #C-like population\n",
    "mat1"
   ]
  },
  {
   "cell_type": "code",
   "execution_count": 5,
   "id": "f2394816",
   "metadata": {},
   "outputs": [
    {
     "data": {
      "text/plain": [
       "array([[ 0,  5, 10, 15],\n",
       "       [ 1,  6, 11, 16],\n",
       "       [ 2,  7, 12, 17],\n",
       "       [ 3,  8, 13, 18],\n",
       "       [ 4,  9, 14, 19]])"
      ]
     },
     "execution_count": 5,
     "metadata": {},
     "output_type": "execute_result"
    }
   ],
   "source": [
    "mat2 = np.reshape(data, (5, 4), order='F') #Fortron-like population\n",
    "mat2"
   ]
  },
  {
   "cell_type": "code",
   "execution_count": 6,
   "id": "627c4342",
   "metadata": {},
   "outputs": [
    {
     "data": {
      "text/plain": [
       "array([[ 0,  1,  2,  3],\n",
       "       [ 4,  5,  6,  7],\n",
       "       [ 8,  9, 10, 11],\n",
       "       [12, 13, 14, 15],\n",
       "       [16, 17, 18, 19]])"
      ]
     },
     "execution_count": 6,
     "metadata": {},
     "output_type": "execute_result"
    }
   ],
   "source": [
    "#using data.reshape()\n",
    "mat3 = data.reshape((5,4))\n",
    "mat3"
   ]
  },
  {
   "cell_type": "code",
   "execution_count": 7,
   "id": "2879551c",
   "metadata": {},
   "outputs": [
    {
     "data": {
      "text/plain": [
       "array([['Have', 'a', 'good', 'day'],\n",
       "       ['2', '3', '4', '5']], dtype='<U4')"
      ]
     },
     "execution_count": 7,
     "metadata": {},
     "output_type": "execute_result"
    }
   ],
   "source": [
    "#using np.array()\n",
    "list1 = ['Have', 'a', 'good', 'day']\n",
    "list2 = list(range(2, 6))\n",
    "mat4 = np.array([list1, list2]) #the second list, which contains numbers are modified to be strings\n",
    "mat4"
   ]
  },
  {
   "cell_type": "markdown",
   "id": "eef84f26",
   "metadata": {},
   "source": [
    "**accessing matrix elements**"
   ]
  },
  {
   "cell_type": "code",
   "execution_count": 8,
   "id": "e1b6414c",
   "metadata": {},
   "outputs": [
    {
     "data": {
      "text/plain": [
       "11"
      ]
     },
     "execution_count": 8,
     "metadata": {},
     "output_type": "execute_result"
    }
   ],
   "source": [
    "mat1[2,3]"
   ]
  },
  {
   "cell_type": "code",
   "execution_count": 9,
   "id": "60a439ca",
   "metadata": {},
   "outputs": [
    {
     "data": {
      "text/plain": [
       "11"
      ]
     },
     "execution_count": 9,
     "metadata": {},
     "output_type": "execute_result"
    }
   ],
   "source": [
    "mat1[2][3]"
   ]
  },
  {
   "cell_type": "code",
   "execution_count": 10,
   "id": "4540e361",
   "metadata": {},
   "outputs": [
    {
     "data": {
      "text/plain": [
       "11"
      ]
     },
     "execution_count": 10,
     "metadata": {},
     "output_type": "execute_result"
    }
   ],
   "source": [
    "mat2[1,2]"
   ]
  },
  {
   "cell_type": "code",
   "execution_count": 11,
   "id": "9a25d030",
   "metadata": {},
   "outputs": [
    {
     "data": {
      "text/plain": [
       "11"
      ]
     },
     "execution_count": 11,
     "metadata": {},
     "output_type": "execute_result"
    }
   ],
   "source": [
    "mat2[1][2]"
   ]
  }
 ],
 "metadata": {
  "kernelspec": {
   "display_name": "Python 3",
   "language": "python",
   "name": "python3"
  },
  "language_info": {
   "codemirror_mode": {
    "name": "ipython",
    "version": 3
   },
   "file_extension": ".py",
   "mimetype": "text/x-python",
   "name": "python",
   "nbconvert_exporter": "python",
   "pygments_lexer": "ipython3",
   "version": "3.8.8"
  }
 },
 "nbformat": 4,
 "nbformat_minor": 5
}
