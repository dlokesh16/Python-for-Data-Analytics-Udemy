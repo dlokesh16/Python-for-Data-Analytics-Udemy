{
 "cells": [
  {
   "cell_type": "markdown",
   "id": "c30f4e00",
   "metadata": {},
   "source": [
    "### Slicing\n",
    "In this notebook we will cover the slicing in Python.\n",
    "**:** operator is used to slice\n",
    "* : - returns elements as is\n",
    "* n: - returns elements from nth index (inclusive of n)\n",
    "* :m - returns elements till m-1th index (exclusive of m)\n",
    "* n:m - returns elements from nth index to m-1th index (inclusive of n and exclusive of m)"
   ]
  },
  {
   "cell_type": "code",
   "execution_count": 1,
   "id": "6238550a",
   "metadata": {},
   "outputs": [
    {
     "data": {
      "text/plain": [
       "[0, 1, 2, 3, 4, 5, 6, 7, 8, 9, 10]"
      ]
     },
     "execution_count": 1,
     "metadata": {},
     "output_type": "execute_result"
    }
   ],
   "source": [
    "list1 = list(range(11))\n",
    "list1"
   ]
  },
  {
   "cell_type": "code",
   "execution_count": 2,
   "id": "281a9593",
   "metadata": {},
   "outputs": [
    {
     "data": {
      "text/plain": [
       "[0, 1, 2, 3, 4, 5, 6, 7, 8, 9, 10]"
      ]
     },
     "execution_count": 2,
     "metadata": {},
     "output_type": "execute_result"
    }
   ],
   "source": [
    "list1[:] #returns all the elements as is"
   ]
  },
  {
   "cell_type": "code",
   "execution_count": 3,
   "id": "fbdec0c3",
   "metadata": {},
   "outputs": [
    {
     "data": {
      "text/plain": [
       "[5, 6, 7, 8, 9, 10]"
      ]
     },
     "execution_count": 3,
     "metadata": {},
     "output_type": "execute_result"
    }
   ],
   "source": [
    "list1[5:] #returns elements from 5th index (inclusive of 5)"
   ]
  },
  {
   "cell_type": "code",
   "execution_count": 4,
   "id": "fb1e06f9",
   "metadata": {},
   "outputs": [
    {
     "data": {
      "text/plain": [
       "[0, 1, 2, 3, 4, 5, 6]"
      ]
     },
     "execution_count": 4,
     "metadata": {},
     "output_type": "execute_result"
    }
   ],
   "source": [
    "list1[:7] #returns elements till 6th index (exclusive of 7)"
   ]
  },
  {
   "cell_type": "code",
   "execution_count": 5,
   "id": "ce3278be",
   "metadata": {
    "scrolled": true
   },
   "outputs": [
    {
     "data": {
      "text/plain": [
       "[3, 4, 5, 6, 7, 8]"
      ]
     },
     "execution_count": 5,
     "metadata": {},
     "output_type": "execute_result"
    }
   ],
   "source": [
    "list1[3:9] #returns elements from 3rd index to 8th index (inclusive of 3 and exclusive of 9)"
   ]
  },
  {
   "cell_type": "code",
   "execution_count": 6,
   "id": "182564c0",
   "metadata": {},
   "outputs": [
    {
     "data": {
      "text/plain": [
       "[7, 8, 9, 10]"
      ]
     },
     "execution_count": 6,
     "metadata": {},
     "output_type": "execute_result"
    }
   ],
   "source": [
    "list1[-4:] #returns elements from 4thlast element (inclusive of -4)"
   ]
  },
  {
   "cell_type": "code",
   "execution_count": 7,
   "id": "eb25c984",
   "metadata": {
    "scrolled": true
   },
   "outputs": [
    {
     "data": {
      "text/plain": [
       "[0, 1, 2, 3, 4, 5, 6, 7]"
      ]
     },
     "execution_count": 7,
     "metadata": {},
     "output_type": "execute_result"
    }
   ],
   "source": [
    "list1[:-3] #returns elements till 4th last element (exclusive of -3)"
   ]
  },
  {
   "cell_type": "code",
   "execution_count": 8,
   "id": "4fcfceb6",
   "metadata": {},
   "outputs": [
    {
     "data": {
      "text/plain": [
       "[6, 7, 8]"
      ]
     },
     "execution_count": 8,
     "metadata": {},
     "output_type": "execute_result"
    }
   ],
   "source": [
    "list1[-5:-2] #retuns elements from 5th last elements till 3rd last element (inclusive of -5 andexclusive of -2)"
   ]
  },
  {
   "cell_type": "code",
   "execution_count": 9,
   "id": "4378409f",
   "metadata": {},
   "outputs": [
    {
     "data": {
      "text/plain": [
       "[]"
      ]
     },
     "execution_count": 9,
     "metadata": {},
     "output_type": "execute_result"
    }
   ],
   "source": [
    "list1[4:2] #returns empty list when start index is greater than end index"
   ]
  },
  {
   "cell_type": "code",
   "execution_count": 10,
   "id": "e929ee78",
   "metadata": {},
   "outputs": [
    {
     "data": {
      "text/plain": [
       "[]"
      ]
     },
     "execution_count": 10,
     "metadata": {},
     "output_type": "execute_result"
    }
   ],
   "source": [
    "list1[-5:-7] #returns empty list when start index is greater than end index"
   ]
  },
  {
   "cell_type": "markdown",
   "id": "8f427985",
   "metadata": {},
   "source": [
    "step or increment can also be included in slicing\n",
    "* n:m:s - inclusive of n and exclusive of m and in step of s"
   ]
  },
  {
   "cell_type": "code",
   "execution_count": 11,
   "id": "1ead3fd8",
   "metadata": {},
   "outputs": [
    {
     "data": {
      "text/plain": [
       "[0, 1, 2, 3, 4, 5, 6, 7, 8, 9, 10]"
      ]
     },
     "execution_count": 11,
     "metadata": {},
     "output_type": "execute_result"
    }
   ],
   "source": [
    "list1[::] #retuns all the elements as is"
   ]
  },
  {
   "cell_type": "code",
   "execution_count": 12,
   "id": "bee57f01",
   "metadata": {},
   "outputs": [
    {
     "data": {
      "text/plain": [
       "[0, 3, 6, 9]"
      ]
     },
     "execution_count": 12,
     "metadata": {},
     "output_type": "execute_result"
    }
   ],
   "source": [
    "list1[::3] #returns elements in step of 3"
   ]
  },
  {
   "cell_type": "code",
   "execution_count": 13,
   "id": "857e9359",
   "metadata": {},
   "outputs": [
    {
     "data": {
      "text/plain": [
       "[3, 6, 9]"
      ]
     },
     "execution_count": 13,
     "metadata": {},
     "output_type": "execute_result"
    }
   ],
   "source": [
    "list1[3::3] #returns elements from 3rd index and in step of 3"
   ]
  },
  {
   "cell_type": "code",
   "execution_count": 14,
   "id": "77de10d6",
   "metadata": {},
   "outputs": [
    {
     "data": {
      "text/plain": [
       "[0, 2, 4, 6]"
      ]
     },
     "execution_count": 14,
     "metadata": {},
     "output_type": "execute_result"
    }
   ],
   "source": [
    "list1[:7:2] #returns elements till 6th index (exlusive of 7) and in step of 2"
   ]
  },
  {
   "cell_type": "code",
   "execution_count": 15,
   "id": "80d7128d",
   "metadata": {},
   "outputs": [
    {
     "data": {
      "text/plain": [
       "[2, 6]"
      ]
     },
     "execution_count": 15,
     "metadata": {},
     "output_type": "execute_result"
    }
   ],
   "source": [
    "list1[2:9:4] #returns elements from 2nd index till 8th index (inclusive of 2 and exclusive of 9) and in step of 4"
   ]
  },
  {
   "cell_type": "markdown",
   "id": "12e1197c",
   "metadata": {},
   "source": [
    "understanding negative step\n",
    "* when using negative step, the list is reversed and returned\n",
    "* it can be simply interpreted as [end:start:-step] and starts from [start+1] index and end index is inclusive"
   ]
  },
  {
   "cell_type": "code",
   "execution_count": 16,
   "id": "987b8f36",
   "metadata": {},
   "outputs": [
    {
     "data": {
      "text/plain": [
       "[10, 9, 8, 7, 6, 5, 4, 3, 2, 1, 0]"
      ]
     },
     "execution_count": 16,
     "metadata": {},
     "output_type": "execute_result"
    }
   ],
   "source": [
    "list1[::-1] #returns the elements in reverse order"
   ]
  },
  {
   "cell_type": "code",
   "execution_count": 19,
   "id": "996c902d",
   "metadata": {},
   "outputs": [
    {
     "data": {
      "text/plain": [
       "[0, 1, 2, 3, 4, 5, 6, 7, 8, 9, 10]"
      ]
     },
     "execution_count": 19,
     "metadata": {},
     "output_type": "execute_result"
    }
   ],
   "source": [
    "list1"
   ]
  },
  {
   "cell_type": "code",
   "execution_count": 23,
   "id": "7e4c7828",
   "metadata": {},
   "outputs": [
    {
     "data": {
      "text/plain": [
       "[10, 9]"
      ]
     },
     "execution_count": 23,
     "metadata": {},
     "output_type": "execute_result"
    }
   ],
   "source": [
    "list1[:-3:-1] #gets the elements from -2 index till the end and returns in reverse (start index is -3+1 => -2)"
   ]
  },
  {
   "cell_type": "code",
   "execution_count": 24,
   "id": "b55705ca",
   "metadata": {},
   "outputs": [
    {
     "data": {
      "text/plain": [
       "[9, 8, 7, 6, 5, 4, 3, 2, 1, 0]"
      ]
     },
     "execution_count": 24,
     "metadata": {},
     "output_type": "execute_result"
    }
   ],
   "source": [
    "list1[-2::-1] #gets the elements from start till -2 index and returns in reverse (inclusive of -2)"
   ]
  },
  {
   "cell_type": "code",
   "execution_count": 40,
   "id": "7b69e20d",
   "metadata": {},
   "outputs": [
    {
     "data": {
      "text/plain": [
       "[9, 8, 7, 6, 5]"
      ]
     },
     "execution_count": 40,
     "metadata": {},
     "output_type": "execute_result"
    }
   ],
   "source": [
    "list1[-2:-7:-1] #gets the elements from -6 till -2 index and returns in reverse (inclusive of -2 and start index is -7+1 => -6)"
   ]
  },
  {
   "cell_type": "code",
   "execution_count": 25,
   "id": "0ed231a0",
   "metadata": {},
   "outputs": [
    {
     "data": {
      "text/plain": [
       "[10, 9, 8, 7, 6, 5, 4]"
      ]
     },
     "execution_count": 25,
     "metadata": {},
     "output_type": "execute_result"
    }
   ],
   "source": [
    "list1[:3:-1] #gets the elements from 4th index index till the end and returns in reverse (start index is 3+1 => 4)"
   ]
  },
  {
   "cell_type": "code",
   "execution_count": 26,
   "id": "689ddf7f",
   "metadata": {},
   "outputs": [
    {
     "data": {
      "text/plain": [
       "[4, 3, 2, 1, 0]"
      ]
     },
     "execution_count": 26,
     "metadata": {},
     "output_type": "execute_result"
    }
   ],
   "source": [
    "list1[4::-1] #gets the elements from start till 4th index and returns in reverse (inclusive of 4)"
   ]
  },
  {
   "cell_type": "code",
   "execution_count": 29,
   "id": "2922bcea",
   "metadata": {},
   "outputs": [
    {
     "data": {
      "text/plain": [
       "[8, 7, 6, 5, 4]"
      ]
     },
     "execution_count": 29,
     "metadata": {},
     "output_type": "execute_result"
    }
   ],
   "source": [
    "list1[8:3:-1] #gets the elements from 4th index till 8th index and returns in reverse (inclusive of 8 and  start index is 3+1 => 4)"
   ]
  },
  {
   "cell_type": "code",
   "execution_count": 30,
   "id": "301daa59",
   "metadata": {},
   "outputs": [
    {
     "data": {
      "text/plain": [
       "[9, 8]"
      ]
     },
     "execution_count": 30,
     "metadata": {},
     "output_type": "execute_result"
    }
   ],
   "source": [
    "list1[9:-4:-1] #gets the elements from -3 index till 9th index and returns in reverse (inclusive of 9 and  start index is -4+1 => -3)"
   ]
  },
  {
   "cell_type": "code",
   "execution_count": 39,
   "id": "1407a734",
   "metadata": {},
   "outputs": [
    {
     "data": {
      "text/plain": [
       "[8, 7, 6, 5, 4, 3]"
      ]
     },
     "execution_count": 39,
     "metadata": {},
     "output_type": "execute_result"
    }
   ],
   "source": [
    "list1[-3:2:-1] #gets the elements from -3 index till 9th index and returns in reverse (inclusive of -3 and start index is 2+1 => 3)"
   ]
  }
 ],
 "metadata": {
  "kernelspec": {
   "display_name": "Python 3",
   "language": "python",
   "name": "python3"
  },
  "language_info": {
   "codemirror_mode": {
    "name": "ipython",
    "version": 3
   },
   "file_extension": ".py",
   "mimetype": "text/x-python",
   "name": "python",
   "nbconvert_exporter": "python",
   "pygments_lexer": "ipython3",
   "version": "3.8.8"
  }
 },
 "nbformat": 4,
 "nbformat_minor": 5
}
