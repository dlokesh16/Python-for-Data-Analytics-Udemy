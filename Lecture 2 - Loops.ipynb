{
 "cells": [
  {
   "cell_type": "markdown",
   "id": "e8a73874",
   "metadata": {},
   "source": [
    "### While loop"
   ]
  },
  {
   "cell_type": "code",
   "execution_count": 1,
   "id": "eaa07009",
   "metadata": {},
   "outputs": [
    {
     "name": "stdout",
     "output_type": "stream",
     "text": [
      "0\n",
      "1\n",
      "2\n",
      "3\n",
      "4\n",
      "5\n",
      "6\n",
      "7\n",
      "8\n",
      "9\n",
      "10\n",
      "11\n",
      "Loop exited\n"
     ]
    }
   ],
   "source": [
    "counter = 0\n",
    "while(counter < 5):\n",
    "    print(counter)\n",
    "    counter += 1\n",
    "print('Loop exited')"
   ]
  },
  {
   "cell_type": "markdown",
   "id": "45566423",
   "metadata": {},
   "source": [
    "---"
   ]
  },
  {
   "cell_type": "markdown",
   "id": "f328d8d3",
   "metadata": {},
   "source": [
    "### For loop"
   ]
  },
  {
   "cell_type": "code",
   "execution_count": 2,
   "id": "163f1f88",
   "metadata": {},
   "outputs": [
    {
     "name": "stdout",
     "output_type": "stream",
     "text": [
      "0\n",
      "1\n",
      "2\n",
      "3\n",
      "4\n",
      "Loop exited\n"
     ]
    }
   ],
   "source": [
    "for i in range(5):\n",
    "    print(i)\n",
    "print('Loop exited')"
   ]
  },
  {
   "cell_type": "code",
   "execution_count": 3,
   "id": "e89bd9b0",
   "metadata": {
    "scrolled": true
   },
   "outputs": [
    {
     "name": "stdout",
     "output_type": "stream",
     "text": [
      "Counter: 0\n",
      "Counter: 1\n",
      "Counter: 2\n",
      "Counter: 3\n",
      "Counter: 4\n",
      "Loop exited\n"
     ]
    }
   ],
   "source": [
    "for i in range(5):\n",
    "    print('Counter:', i)\n",
    "print('Loop exited')"
   ]
  },
  {
   "cell_type": "code",
   "execution_count": 4,
   "id": "55b96b2f",
   "metadata": {},
   "outputs": [
    {
     "name": "stdout",
     "output_type": "stream",
     "text": [
      "My name is Lokesh \n"
     ]
    }
   ],
   "source": [
    "mylist = ('My', 'name', 'is', 'Lokesh')\n",
    "text = ''\n",
    "for txt in mylist:\n",
    "    text += txt + ' '\n",
    "print(text)"
   ]
  },
  {
   "cell_type": "markdown",
   "id": "48e29fdb",
   "metadata": {},
   "source": [
    "---"
   ]
  }
 ],
 "metadata": {
  "kernelspec": {
   "display_name": "Python 3",
   "language": "python",
   "name": "python3"
  },
  "language_info": {
   "codemirror_mode": {
    "name": "ipython",
    "version": 3
   },
   "file_extension": ".py",
   "mimetype": "text/x-python",
   "name": "python",
   "nbconvert_exporter": "python",
   "pygments_lexer": "ipython3",
   "version": "3.8.8"
  }
 },
 "nbformat": 4,
 "nbformat_minor": 5
}
