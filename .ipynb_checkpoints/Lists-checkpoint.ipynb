{
 "cells": [
  {
   "cell_type": "markdown",
   "id": "a7a902d1",
   "metadata": {},
   "source": [
    "### Lists\n",
    "In this notebook, we will go through lists, creation and initiation, methods, functions of lists in Python"
   ]
  },
  {
   "cell_type": "markdown",
   "id": "ec70cd89",
   "metadata": {},
   "source": [
    "list in python are declared using **[]**. lists can have mixed data types. empty lists are declared as **list()**."
   ]
  },
  {
   "cell_type": "code",
   "execution_count": 1,
   "id": "c6723aec",
   "metadata": {},
   "outputs": [
    {
     "data": {
      "text/plain": [
       "list"
      ]
     },
     "execution_count": 1,
     "metadata": {},
     "output_type": "execute_result"
    }
   ],
   "source": [
    "list1 = [1, 2, 3, 4]\n",
    "type(list1)"
   ]
  },
  {
   "cell_type": "code",
   "execution_count": 2,
   "id": "397a9753",
   "metadata": {},
   "outputs": [
    {
     "data": {
      "text/plain": [
       "['I', 'am', 30, 'years', 'old']"
      ]
     },
     "execution_count": 2,
     "metadata": {},
     "output_type": "execute_result"
    }
   ],
   "source": [
    "list1 = ['I', 'am', 30, 'years', 'old']\n",
    "list1"
   ]
  },
  {
   "cell_type": "code",
   "execution_count": 3,
   "id": "c2ff36b5",
   "metadata": {},
   "outputs": [
    {
     "data": {
      "text/plain": [
       "[1, ['I', 'am', 30, 'years', 'old']]"
      ]
     },
     "execution_count": 3,
     "metadata": {},
     "output_type": "execute_result"
    }
   ],
   "source": [
    "list1 = [1, list1]\n",
    "list1"
   ]
  },
  {
   "cell_type": "code",
   "execution_count": 4,
   "id": "2e759687",
   "metadata": {},
   "outputs": [
    {
     "data": {
      "text/plain": [
       "[]"
      ]
     },
     "execution_count": 4,
     "metadata": {},
     "output_type": "execute_result"
    }
   ],
   "source": [
    "list1 = list()\n",
    "list1"
   ]
  },
  {
   "cell_type": "markdown",
   "id": "8779d26f",
   "metadata": {},
   "source": [
    "**range()** function is used to create various numerical lists. **range()** is a generator and needs to be assigned to a list."
   ]
  },
  {
   "cell_type": "code",
   "execution_count": 5,
   "id": "329b0b48",
   "metadata": {},
   "outputs": [
    {
     "data": {
      "text/plain": [
       "range(0, 5)"
      ]
     },
     "execution_count": 5,
     "metadata": {},
     "output_type": "execute_result"
    }
   ],
   "source": [
    "range(5) #does not actually gives a list of numbers"
   ]
  },
  {
   "cell_type": "code",
   "execution_count": 6,
   "id": "e9e35653",
   "metadata": {},
   "outputs": [
    {
     "data": {
      "text/plain": [
       "[0, 1, 2, 3, 4]"
      ]
     },
     "execution_count": 6,
     "metadata": {},
     "output_type": "execute_result"
    }
   ],
   "source": [
    "list(range(5))"
   ]
  },
  {
   "cell_type": "code",
   "execution_count": 7,
   "id": "4749f0ff",
   "metadata": {},
   "outputs": [
    {
     "data": {
      "text/plain": [
       "[0, 1, 2, 3, 4]"
      ]
     },
     "execution_count": 7,
     "metadata": {},
     "output_type": "execute_result"
    }
   ],
   "source": [
    "list1 = list(range(5)) #starts at 0 and the end number is excluded\n",
    "list1"
   ]
  },
  {
   "cell_type": "code",
   "execution_count": 8,
   "id": "338f627c",
   "metadata": {},
   "outputs": [
    {
     "data": {
      "text/plain": [
       "[10, 11, 12, 13, 14, 15, 16, 17, 18, 19, 20]"
      ]
     },
     "execution_count": 8,
     "metadata": {},
     "output_type": "execute_result"
    }
   ],
   "source": [
    "list1 = list(range(10, 21)) #starts at 10 and ends at 20\n",
    "list1"
   ]
  },
  {
   "cell_type": "code",
   "execution_count": 9,
   "id": "fdc0daf3",
   "metadata": {},
   "outputs": [
    {
     "data": {
      "text/plain": [
       "[10, 11, 12, 13, 14, 15, 16, 17, 18, 19, 20]"
      ]
     },
     "execution_count": 9,
     "metadata": {},
     "output_type": "execute_result"
    }
   ],
   "source": [
    "list1 = list(range(10, 21, 1)) #starts at 10 and ends at 20, with increments or step of 1, default step is 1\n",
    "list1"
   ]
  },
  {
   "cell_type": "code",
   "execution_count": 10,
   "id": "0fd572b5",
   "metadata": {},
   "outputs": [
    {
     "data": {
      "text/plain": [
       "[10, 12, 14, 16, 18, 20]"
      ]
     },
     "execution_count": 10,
     "metadata": {},
     "output_type": "execute_result"
    }
   ],
   "source": [
    "list1 = list(range(10, 21, 2)) #starts at 10 and ends at 20, with increments or step of 2\n",
    "list1"
   ]
  },
  {
   "cell_type": "markdown",
   "id": "18b026d7",
   "metadata": {},
   "source": [
    "**[]** operator is used to access list elements. lists are ordered data types meaning they have indices associated with each element. we use these indices within **[]** operator to extract data "
   ]
  },
  {
   "cell_type": "code",
   "execution_count": 11,
   "id": "32ac4c4a",
   "metadata": {},
   "outputs": [
    {
     "data": {
      "text/plain": [
       "10"
      ]
     },
     "execution_count": 11,
     "metadata": {},
     "output_type": "execute_result"
    }
   ],
   "source": [
    "list1[0] #Python idexing always starts from 0"
   ]
  },
  {
   "cell_type": "code",
   "execution_count": 12,
   "id": "d4d6373e",
   "metadata": {},
   "outputs": [
    {
     "data": {
      "text/plain": [
       "20"
      ]
     },
     "execution_count": 12,
     "metadata": {},
     "output_type": "execute_result"
    }
   ],
   "source": [
    "list1[-1] #gets the last element in a list"
   ]
  },
  {
   "cell_type": "code",
   "execution_count": 13,
   "id": "b0b8cb45",
   "metadata": {},
   "outputs": [
    {
     "data": {
      "text/plain": [
       "12"
      ]
     },
     "execution_count": 13,
     "metadata": {},
     "output_type": "execute_result"
    }
   ],
   "source": [
    "list1[1]"
   ]
  },
  {
   "cell_type": "code",
   "execution_count": 14,
   "id": "a06f1f13",
   "metadata": {},
   "outputs": [
    {
     "data": {
      "text/plain": [
       "18"
      ]
     },
     "execution_count": 14,
     "metadata": {},
     "output_type": "execute_result"
    }
   ],
   "source": [
    "list1[-2] #gets the second last element in a list"
   ]
  },
  {
   "cell_type": "code",
   "execution_count": 15,
   "id": "6a65dbf8",
   "metadata": {},
   "outputs": [],
   "source": [
    "#though there are 6 elements, the index of the last element is 5 as lists are 0-indexed\n",
    "# list1[6] #uncomment and run cell to see the error "
   ]
  },
  {
   "cell_type": "code",
   "execution_count": 16,
   "id": "1c77bd1c",
   "metadata": {},
   "outputs": [],
   "source": [
    "#there are only 6 elements, the index of the first element is -6\n",
    "# list1[-7] #uncomment and run cell to see the error"
   ]
  },
  {
   "cell_type": "markdown",
   "id": "eee1b8f4",
   "metadata": {},
   "source": [
    "**len()** function is used to get the length of the list, i.e. the number of elements in the list"
   ]
  },
  {
   "cell_type": "code",
   "execution_count": 17,
   "id": "3ca5a5e7",
   "metadata": {},
   "outputs": [
    {
     "data": {
      "text/plain": [
       "6"
      ]
     },
     "execution_count": 17,
     "metadata": {},
     "output_type": "execute_result"
    }
   ],
   "source": [
    "len(list1)"
   ]
  },
  {
   "cell_type": "code",
   "execution_count": 18,
   "id": "1545a3f4",
   "metadata": {},
   "outputs": [
    {
     "data": {
      "text/plain": [
       "-6"
      ]
     },
     "execution_count": 18,
     "metadata": {},
     "output_type": "execute_result"
    }
   ],
   "source": [
    "-len(list1)"
   ]
  },
  {
   "cell_type": "code",
   "execution_count": 19,
   "id": "242f57aa",
   "metadata": {},
   "outputs": [],
   "source": [
    "#throws errors as index 6 is out of range\n",
    "# list1[len(list1)] #uncomment andrun cell to see the error"
   ]
  },
  {
   "cell_type": "code",
   "execution_count": 20,
   "id": "68c881ef",
   "metadata": {},
   "outputs": [
    {
     "data": {
      "text/plain": [
       "20"
      ]
     },
     "execution_count": 20,
     "metadata": {},
     "output_type": "execute_result"
    }
   ],
   "source": [
    "list1[len(list1)-1] #gets the last element in the list "
   ]
  },
  {
   "cell_type": "code",
   "execution_count": 21,
   "id": "1bf31d32",
   "metadata": {},
   "outputs": [
    {
     "data": {
      "text/plain": [
       "10"
      ]
     },
     "execution_count": 21,
     "metadata": {},
     "output_type": "execute_result"
    }
   ],
   "source": [
    "list1[-len(list1)] #gets the first element in the list"
   ]
  },
  {
   "cell_type": "markdown",
   "id": "bc9eead4",
   "metadata": {},
   "source": [
    "**lists are mutable** meaning the values in the list can be modified, deleted after creation of the list. "
   ]
  },
  {
   "cell_type": "markdown",
   "id": "99632a04",
   "metadata": {},
   "source": [
    "**list methods**"
   ]
  },
  {
   "cell_type": "code",
   "execution_count": 22,
   "id": "39b67095",
   "metadata": {},
   "outputs": [
    {
     "data": {
      "text/plain": [
       "[10, 12, 14, 16, 18, 22]"
      ]
     },
     "execution_count": 22,
     "metadata": {},
     "output_type": "execute_result"
    }
   ],
   "source": [
    "#list[index]\n",
    "list1[-1] = 22 #modify a specific element in the list\n",
    "list1"
   ]
  },
  {
   "cell_type": "code",
   "execution_count": 23,
   "id": "e061a2f4",
   "metadata": {
    "scrolled": true
   },
   "outputs": [
    {
     "data": {
      "text/plain": [
       "22"
      ]
     },
     "execution_count": 23,
     "metadata": {},
     "output_type": "execute_result"
    }
   ],
   "source": [
    "list1.pop() #removes the last element in the list and sends the element value"
   ]
  },
  {
   "cell_type": "code",
   "execution_count": 24,
   "id": "0a7a6348",
   "metadata": {},
   "outputs": [
    {
     "data": {
      "text/plain": [
       "[10, 12, 14, 16, 18]"
      ]
     },
     "execution_count": 24,
     "metadata": {},
     "output_type": "execute_result"
    }
   ],
   "source": [
    "list1"
   ]
  },
  {
   "cell_type": "code",
   "execution_count": 25,
   "id": "cb6fb830",
   "metadata": {},
   "outputs": [
    {
     "data": {
      "text/plain": [
       "[10, 12, 14, 16, 18, 20]"
      ]
     },
     "execution_count": 25,
     "metadata": {},
     "output_type": "execute_result"
    }
   ],
   "source": [
    "#list.append(value)\n",
    "list1.append(20) #appends the elements to the end of the list\n",
    "list1"
   ]
  },
  {
   "cell_type": "code",
   "execution_count": 26,
   "id": "18c19fb5",
   "metadata": {},
   "outputs": [
    {
     "data": {
      "text/plain": [
       "[22, 24, 26, 28, 30]"
      ]
     },
     "execution_count": 26,
     "metadata": {},
     "output_type": "execute_result"
    }
   ],
   "source": [
    "list2 = list(range(22, 31, 2))\n",
    "list2"
   ]
  },
  {
   "cell_type": "code",
   "execution_count": 27,
   "id": "97885b6a",
   "metadata": {},
   "outputs": [
    {
     "data": {
      "text/plain": [
       "[10, 12, 14, 16, 18, 20, 22, 24, 26, 28, 30]"
      ]
     },
     "execution_count": 27,
     "metadata": {},
     "output_type": "execute_result"
    }
   ],
   "source": [
    "#list.extend(list)\n",
    "list1.extend(list2) #appends a list to the existing list and continues the indexation of the first list\n",
    "list1"
   ]
  },
  {
   "cell_type": "code",
   "execution_count": 28,
   "id": "0b1a912f",
   "metadata": {},
   "outputs": [
    {
     "data": {
      "text/plain": [
       "24"
      ]
     },
     "execution_count": 28,
     "metadata": {},
     "output_type": "execute_result"
    }
   ],
   "source": [
    "list1[7]"
   ]
  },
  {
   "cell_type": "code",
   "execution_count": 29,
   "id": "40ea3042",
   "metadata": {},
   "outputs": [
    {
     "data": {
      "text/plain": [
       "[10, 11, 12, 14, 16, 18, 20, 22, 24, 26, 28, 30]"
      ]
     },
     "execution_count": 29,
     "metadata": {},
     "output_type": "execute_result"
    }
   ],
   "source": [
    "#list.insert(index, value)\n",
    "list1.insert(1, 11) #insert a value at specific index, \n",
    "                    #the first argument is the index beofre which the element will be inserted and \n",
    "                    #the second argument is the value to be inserted\n",
    "list1"
   ]
  },
  {
   "cell_type": "code",
   "execution_count": 30,
   "id": "2df230af",
   "metadata": {},
   "outputs": [
    {
     "data": {
      "text/plain": [
       "[10, 12, 14, 16, 18, 20, 22, 24, 26, 28, 30]"
      ]
     },
     "execution_count": 30,
     "metadata": {},
     "output_type": "execute_result"
    }
   ],
   "source": [
    "#list.remove(value)\n",
    "list1.remove(11) #removes the first occurance of the element\n",
    "list1"
   ]
  },
  {
   "cell_type": "code",
   "execution_count": 31,
   "id": "e17fc10e",
   "metadata": {},
   "outputs": [],
   "source": [
    "#list.remove(value) throws an error if no element found\n",
    "# list1.remove(11) #uncomment and run cell to see the error"
   ]
  },
  {
   "cell_type": "code",
   "execution_count": 32,
   "id": "2ad35fb0",
   "metadata": {},
   "outputs": [
    {
     "data": {
      "text/plain": [
       "30"
      ]
     },
     "execution_count": 32,
     "metadata": {},
     "output_type": "execute_result"
    }
   ],
   "source": [
    "#list.pop(index)\n",
    "list1.pop(-1) #removes the element at the specified index in the list and sends the element value"
   ]
  },
  {
   "cell_type": "code",
   "execution_count": 33,
   "id": "3815d193",
   "metadata": {},
   "outputs": [
    {
     "data": {
      "text/plain": [
       "[10, 12, 14, 16, 18, 20, 22, 24, 26, 28]"
      ]
     },
     "execution_count": 33,
     "metadata": {},
     "output_type": "execute_result"
    }
   ],
   "source": [
    "list1"
   ]
  },
  {
   "cell_type": "code",
   "execution_count": 34,
   "id": "94c8e72d",
   "metadata": {},
   "outputs": [
    {
     "data": {
      "text/plain": [
       "[10, 12, 14, 16, 18, 20, 22, 24, 26, 28, 24, 26, 28, 30]"
      ]
     },
     "execution_count": 34,
     "metadata": {},
     "output_type": "execute_result"
    }
   ],
   "source": [
    "list2 = list(range(24, 31, 2))\n",
    "list1.extend(list2)\n",
    "list1"
   ]
  },
  {
   "cell_type": "code",
   "execution_count": 35,
   "id": "573f1ba1",
   "metadata": {},
   "outputs": [
    {
     "data": {
      "text/plain": [
       "0"
      ]
     },
     "execution_count": 35,
     "metadata": {},
     "output_type": "execute_result"
    }
   ],
   "source": [
    "#list.index(value)\n",
    "list1.index(10) #returns the index of first occurance of the element "
   ]
  },
  {
   "cell_type": "code",
   "execution_count": 36,
   "id": "667da976",
   "metadata": {},
   "outputs": [
    {
     "data": {
      "text/plain": [
       "7"
      ]
     },
     "execution_count": 36,
     "metadata": {},
     "output_type": "execute_result"
    }
   ],
   "source": [
    "list1.index(24) #24 and 26 occurs twice but only the first occurance is returned"
   ]
  },
  {
   "cell_type": "code",
   "execution_count": 37,
   "id": "f204e0bd",
   "metadata": {},
   "outputs": [
    {
     "data": {
      "text/plain": [
       "10"
      ]
     },
     "execution_count": 37,
     "metadata": {},
     "output_type": "execute_result"
    }
   ],
   "source": [
    "#list.index(value, start index, end index)\n",
    "list1.index(24, 8, ) #returns the index of the first occurance of the elements within the specified range"
   ]
  },
  {
   "cell_type": "code",
   "execution_count": 38,
   "id": "15b22ec7",
   "metadata": {},
   "outputs": [],
   "source": [
    "#throws an error if no element found\n",
    "# list1.index(5) #uncomment and run cell to see the error"
   ]
  },
  {
   "cell_type": "code",
   "execution_count": 39,
   "id": "07fcae20",
   "metadata": {},
   "outputs": [
    {
     "data": {
      "text/plain": [
       "1"
      ]
     },
     "execution_count": 39,
     "metadata": {},
     "output_type": "execute_result"
    }
   ],
   "source": [
    "#list.count(value)\n",
    "list1.count(10) #returns the number of occurances of the element in the list"
   ]
  },
  {
   "cell_type": "code",
   "execution_count": 40,
   "id": "7892168b",
   "metadata": {},
   "outputs": [
    {
     "data": {
      "text/plain": [
       "2"
      ]
     },
     "execution_count": 40,
     "metadata": {},
     "output_type": "execute_result"
    }
   ],
   "source": [
    "list1.count(24)"
   ]
  },
  {
   "cell_type": "code",
   "execution_count": 41,
   "id": "7540918f",
   "metadata": {},
   "outputs": [
    {
     "data": {
      "text/plain": [
       "0"
      ]
     },
     "execution_count": 41,
     "metadata": {},
     "output_type": "execute_result"
    }
   ],
   "source": [
    "list1.count(5)"
   ]
  },
  {
   "cell_type": "code",
   "execution_count": 42,
   "id": "b2e13bdb",
   "metadata": {},
   "outputs": [
    {
     "data": {
      "text/plain": [
       "[30, 28, 26, 24, 28, 26, 24, 22, 20, 18, 16, 14, 12, 10]"
      ]
     },
     "execution_count": 42,
     "metadata": {},
     "output_type": "execute_result"
    }
   ],
   "source": [
    "#list.reverse()\n",
    "list1.reverse() #reverses the list inplace\n",
    "list1"
   ]
  },
  {
   "cell_type": "code",
   "execution_count": 43,
   "id": "85032f3e",
   "metadata": {},
   "outputs": [
    {
     "data": {
      "text/plain": [
       "[]"
      ]
     },
     "execution_count": 43,
     "metadata": {},
     "output_type": "execute_result"
    }
   ],
   "source": [
    "#list.clear()\n",
    "list1.clear() #clears all the elements in the list inplace\n",
    "list1"
   ]
  },
  {
   "cell_type": "code",
   "execution_count": 44,
   "id": "f03291b3",
   "metadata": {},
   "outputs": [
    {
     "data": {
      "text/plain": [
       "['toronto', 'bangalore', 'venice', 'bali', 'london', 'amsterdam']"
      ]
     },
     "execution_count": 44,
     "metadata": {},
     "output_type": "execute_result"
    }
   ],
   "source": [
    "list1 = ['toronto', 'bangalore', 'venice', 'bali', 'london', 'amsterdam']\n",
    "list1"
   ]
  },
  {
   "cell_type": "code",
   "execution_count": 45,
   "id": "57f0663c",
   "metadata": {},
   "outputs": [
    {
     "data": {
      "text/plain": [
       "['amsterdam', 'bali', 'bangalore', 'london', 'toronto', 'venice']"
      ]
     },
     "execution_count": 45,
     "metadata": {},
     "output_type": "execute_result"
    }
   ],
   "source": [
    "#list.sort()\n",
    "list1.sort() #sorts the elements inplace, by default compares the elements\n",
    "list1"
   ]
  },
  {
   "cell_type": "code",
   "execution_count": 46,
   "id": "20a7f23e",
   "metadata": {},
   "outputs": [
    {
     "data": {
      "text/plain": [
       "['venice', 'toronto', 'london', 'bangalore', 'bali', 'amsterdam']"
      ]
     },
     "execution_count": 46,
     "metadata": {},
     "output_type": "execute_result"
    }
   ],
   "source": [
    "#list.sort(reverse=bool)\n",
    "list1.sort(reverse=True) #reverse sorts the elements inplace, by default compares the elements\n",
    "list1"
   ]
  },
  {
   "cell_type": "code",
   "execution_count": 47,
   "id": "15b997c7",
   "metadata": {},
   "outputs": [
    {
     "data": {
      "text/plain": [
       "['bali', 'venice', 'london', 'toronto', 'bangalore', 'amsterdam']"
      ]
     },
     "execution_count": 47,
     "metadata": {},
     "output_type": "execute_result"
    }
   ],
   "source": [
    "#list.sort(key)\n",
    "list1.sort(key=len) #sorts the elements inplace using len as key\n",
    "list1"
   ]
  },
  {
   "cell_type": "code",
   "execution_count": 48,
   "id": "842801cc",
   "metadata": {},
   "outputs": [
    {
     "data": {
      "text/plain": [
       "['bangalore', 'amsterdam', 'toronto', 'venice', 'london', 'bali']"
      ]
     },
     "execution_count": 48,
     "metadata": {},
     "output_type": "execute_result"
    }
   ],
   "source": [
    "#list.sort(key)\n",
    "list1.sort(key=len, reverse=True) #sorts the elements inplace using len as key\n",
    "list1"
   ]
  },
  {
   "cell_type": "markdown",
   "id": "63131c56",
   "metadata": {},
   "source": [
    "there are 2 ways to copy a list to another list\n",
    "* **list2 = list1**\n",
    "    * this creates a list2 from list1 but both the lists points to the same object. any changes made in one of the lists will affect the other as well\n",
    "* **list2 = list1.copy()** (preferred way)\n",
    "    * this creates a list2 from list1 but both are different onejcts. changes made in one list will not affect other"
   ]
  },
  {
   "cell_type": "code",
   "execution_count": 49,
   "id": "ea65bd8a",
   "metadata": {},
   "outputs": [],
   "source": [
    "list2 = list1"
   ]
  },
  {
   "cell_type": "code",
   "execution_count": 50,
   "id": "8a39957a",
   "metadata": {},
   "outputs": [
    {
     "data": {
      "text/plain": [
       "['bangalore', 'amsterdam', 'toronto', 'venice', 'london', 'bali']"
      ]
     },
     "execution_count": 50,
     "metadata": {},
     "output_type": "execute_result"
    }
   ],
   "source": [
    "list1"
   ]
  },
  {
   "cell_type": "code",
   "execution_count": 51,
   "id": "87c2f5d6",
   "metadata": {},
   "outputs": [
    {
     "data": {
      "text/plain": [
       "['bangalore', 'amsterdam', 'toronto', 'venice', 'london', 'bali']"
      ]
     },
     "execution_count": 51,
     "metadata": {},
     "output_type": "execute_result"
    }
   ],
   "source": [
    "list2"
   ]
  },
  {
   "cell_type": "code",
   "execution_count": 52,
   "id": "4cdc369b",
   "metadata": {},
   "outputs": [],
   "source": [
    "list1.append('singapore')"
   ]
  },
  {
   "cell_type": "code",
   "execution_count": 53,
   "id": "0c8f1e24",
   "metadata": {},
   "outputs": [
    {
     "data": {
      "text/plain": [
       "['bangalore', 'amsterdam', 'toronto', 'venice', 'london', 'bali', 'singapore']"
      ]
     },
     "execution_count": 53,
     "metadata": {},
     "output_type": "execute_result"
    }
   ],
   "source": [
    "list1"
   ]
  },
  {
   "cell_type": "code",
   "execution_count": 54,
   "id": "a7f441ff",
   "metadata": {},
   "outputs": [
    {
     "data": {
      "text/plain": [
       "['bangalore', 'amsterdam', 'toronto', 'venice', 'london', 'bali', 'singapore']"
      ]
     },
     "execution_count": 54,
     "metadata": {},
     "output_type": "execute_result"
    }
   ],
   "source": [
    "list2"
   ]
  },
  {
   "cell_type": "code",
   "execution_count": 55,
   "id": "0e624782",
   "metadata": {},
   "outputs": [],
   "source": [
    "list3 = list1.copy()"
   ]
  },
  {
   "cell_type": "code",
   "execution_count": 56,
   "id": "49c8f694",
   "metadata": {},
   "outputs": [
    {
     "data": {
      "text/plain": [
       "['bangalore', 'amsterdam', 'toronto', 'venice', 'london', 'bali', 'singapore']"
      ]
     },
     "execution_count": 56,
     "metadata": {},
     "output_type": "execute_result"
    }
   ],
   "source": [
    "list1"
   ]
  },
  {
   "cell_type": "code",
   "execution_count": 57,
   "id": "c110c28a",
   "metadata": {},
   "outputs": [
    {
     "data": {
      "text/plain": [
       "['bangalore', 'amsterdam', 'toronto', 'venice', 'london', 'bali', 'singapore']"
      ]
     },
     "execution_count": 57,
     "metadata": {},
     "output_type": "execute_result"
    }
   ],
   "source": [
    "list3"
   ]
  },
  {
   "cell_type": "code",
   "execution_count": 58,
   "id": "3cbb00ff",
   "metadata": {},
   "outputs": [],
   "source": [
    "list1.append('vancouver')"
   ]
  },
  {
   "cell_type": "code",
   "execution_count": 59,
   "id": "e3839ec7",
   "metadata": {},
   "outputs": [
    {
     "data": {
      "text/plain": [
       "['bangalore',\n",
       " 'amsterdam',\n",
       " 'toronto',\n",
       " 'venice',\n",
       " 'london',\n",
       " 'bali',\n",
       " 'singapore',\n",
       " 'vancouver']"
      ]
     },
     "execution_count": 59,
     "metadata": {},
     "output_type": "execute_result"
    }
   ],
   "source": [
    "list1"
   ]
  },
  {
   "cell_type": "code",
   "execution_count": 60,
   "id": "ed364acb",
   "metadata": {},
   "outputs": [
    {
     "data": {
      "text/plain": [
       "['bangalore',\n",
       " 'amsterdam',\n",
       " 'toronto',\n",
       " 'venice',\n",
       " 'london',\n",
       " 'bali',\n",
       " 'singapore',\n",
       " 'vancouver']"
      ]
     },
     "execution_count": 60,
     "metadata": {},
     "output_type": "execute_result"
    }
   ],
   "source": [
    "list2"
   ]
  },
  {
   "cell_type": "code",
   "execution_count": 61,
   "id": "ebcb6c1f",
   "metadata": {},
   "outputs": [
    {
     "data": {
      "text/plain": [
       "['bangalore', 'amsterdam', 'toronto', 'venice', 'london', 'bali', 'singapore']"
      ]
     },
     "execution_count": 61,
     "metadata": {},
     "output_type": "execute_result"
    }
   ],
   "source": [
    "list3"
   ]
  },
  {
   "cell_type": "markdown",
   "id": "df0b4918",
   "metadata": {},
   "source": [
    "**list functions**"
   ]
  },
  {
   "cell_type": "code",
   "execution_count": 62,
   "id": "dd713c50",
   "metadata": {},
   "outputs": [
    {
     "data": {
      "text/plain": [
       "8"
      ]
     },
     "execution_count": 62,
     "metadata": {},
     "output_type": "execute_result"
    }
   ],
   "source": [
    "#len(list)\n",
    "len(list1) #return the numbers of elements in the list"
   ]
  },
  {
   "cell_type": "code",
   "execution_count": 63,
   "id": "dd9d5a5e",
   "metadata": {},
   "outputs": [
    {
     "data": {
      "text/plain": [
       "'venice'"
      ]
     },
     "execution_count": 63,
     "metadata": {},
     "output_type": "execute_result"
    }
   ],
   "source": [
    "#max(list)\n",
    "max(list1) #returns the largest item in the list"
   ]
  },
  {
   "cell_type": "code",
   "execution_count": 64,
   "id": "105c4375",
   "metadata": {
    "scrolled": true
   },
   "outputs": [
    {
     "data": {
      "text/plain": [
       "['bangalore',\n",
       " 'amsterdam',\n",
       " 'toronto',\n",
       " 'venice',\n",
       " 'london',\n",
       " 'bali',\n",
       " 'singapore',\n",
       " 'vancouver']"
      ]
     },
     "execution_count": 64,
     "metadata": {},
     "output_type": "execute_result"
    }
   ],
   "source": [
    "#max(list1, list2)\n",
    "max(list1, list3) #returns the largest of the two or more lists"
   ]
  },
  {
   "cell_type": "code",
   "execution_count": 65,
   "id": "9a2cba9a",
   "metadata": {},
   "outputs": [
    {
     "data": {
      "text/plain": [
       "'bangalore'"
      ]
     },
     "execution_count": 65,
     "metadata": {},
     "output_type": "execute_result"
    }
   ],
   "source": [
    "#max(list, key)\n",
    "max(list1, key=len) #returns the largest item in the list based on the key"
   ]
  },
  {
   "cell_type": "code",
   "execution_count": 66,
   "id": "81670b51",
   "metadata": {},
   "outputs": [
    {
     "data": {
      "text/plain": [
       "['bangalore',\n",
       " 'amsterdam',\n",
       " 'toronto',\n",
       " 'venice',\n",
       " 'london',\n",
       " 'bali',\n",
       " 'singapore',\n",
       " 'vancouver']"
      ]
     },
     "execution_count": 66,
     "metadata": {},
     "output_type": "execute_result"
    }
   ],
   "source": [
    "#max(list, default)\n",
    "list4 = list()\n",
    "max(list4, default=list1) #return the default list when the provided list is empty"
   ]
  },
  {
   "cell_type": "code",
   "execution_count": 67,
   "id": "4f6193a4",
   "metadata": {},
   "outputs": [],
   "source": [
    "#throws an error when the provided list is empty and no default specified\n",
    "# max(list4) #uncomment and run cell to see the error"
   ]
  },
  {
   "cell_type": "code",
   "execution_count": 68,
   "id": "55a48551",
   "metadata": {},
   "outputs": [
    {
     "data": {
      "text/plain": [
       "'amsterdam'"
      ]
     },
     "execution_count": 68,
     "metadata": {},
     "output_type": "execute_result"
    }
   ],
   "source": [
    "#min(list)\n",
    "min(list1) #returns the smallest item in the list"
   ]
  },
  {
   "cell_type": "code",
   "execution_count": 69,
   "id": "16ff4030",
   "metadata": {
    "scrolled": true
   },
   "outputs": [
    {
     "data": {
      "text/plain": [
       "['bangalore', 'amsterdam', 'toronto', 'venice', 'london', 'bali', 'singapore']"
      ]
     },
     "execution_count": 69,
     "metadata": {},
     "output_type": "execute_result"
    }
   ],
   "source": [
    "#min(list1, list2)\n",
    "min(list1, list3) #returns the largest of the two or more lists"
   ]
  },
  {
   "cell_type": "code",
   "execution_count": 70,
   "id": "fbe85b90",
   "metadata": {},
   "outputs": [
    {
     "data": {
      "text/plain": [
       "'bali'"
      ]
     },
     "execution_count": 70,
     "metadata": {},
     "output_type": "execute_result"
    }
   ],
   "source": [
    "#min(list, key)\n",
    "min(list1, key=len) #returns the largest item in the list based on the key"
   ]
  },
  {
   "cell_type": "code",
   "execution_count": 71,
   "id": "72b85e85",
   "metadata": {},
   "outputs": [
    {
     "data": {
      "text/plain": [
       "['bangalore',\n",
       " 'amsterdam',\n",
       " 'toronto',\n",
       " 'venice',\n",
       " 'london',\n",
       " 'bali',\n",
       " 'singapore',\n",
       " 'vancouver']"
      ]
     },
     "execution_count": 71,
     "metadata": {},
     "output_type": "execute_result"
    }
   ],
   "source": [
    "#min(list, default)\n",
    "list4 = list()\n",
    "min(list4, default=list1) #return the default list when the provided list is empty"
   ]
  },
  {
   "cell_type": "code",
   "execution_count": 73,
   "id": "3eec3e1f",
   "metadata": {},
   "outputs": [],
   "source": [
    "#throws an error when the provided list is empty and no default specified\n",
    "# min(list3) #uncomment and run cell to see the error"
   ]
  }
 ],
 "metadata": {
  "kernelspec": {
   "display_name": "Python 3",
   "language": "python",
   "name": "python3"
  },
  "language_info": {
   "codemirror_mode": {
    "name": "ipython",
    "version": 3
   },
   "file_extension": ".py",
   "mimetype": "text/x-python",
   "name": "python",
   "nbconvert_exporter": "python",
   "pygments_lexer": "ipython3",
   "version": "3.8.8"
  }
 },
 "nbformat": 4,
 "nbformat_minor": 5
}
