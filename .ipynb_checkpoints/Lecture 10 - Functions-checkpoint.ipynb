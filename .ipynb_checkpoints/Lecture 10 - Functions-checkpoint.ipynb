{
 "cells": [
  {
   "cell_type": "markdown",
   "id": "647836b9",
   "metadata": {},
   "source": [
    "### Functions\n",
    "A **function** is a block of organized, reusable code that is used to perform a single, related action. Functions provide better modularity for your application and a high degree of code reusing."
   ]
  },
  {
   "cell_type": "markdown",
   "id": "042dfb81",
   "metadata": {},
   "source": [
    "As you already know, Python gives you many built-in functions like print(), etc. but you can also create your own functions. These functions are called **user-defined functions**."
   ]
  },
  {
   "cell_type": "markdown",
   "id": "85d3cf71",
   "metadata": {},
   "source": [
    "#### Defining a Function\n",
    "* Function blocks begin with the keyword def followed by the function name and parentheses ( ).\n",
    "  * Any input parameters or arguments should be placed within these parentheses. You can also define parameters inside these parentheses.\n",
    "* The first statement of a function can be an optional statement - the documentation string of the function or docstring.\n",
    "* The code block within every function starts with a colon (:) and is indented.\n",
    "* The statement return [expression] exits a function, optionally passing back an expression to the caller. A return statement with no arguments is the same as return None.\n",
    "\n",
    "#### Syntax\n",
    "```function\n",
    "def function_name( parameters ):\n",
    "\t\"function_docstring\"\n",
    "\tfunction_logic\n",
    "\treturn [expression]\n",
    "```"
   ]
  },
  {
   "cell_type": "code",
   "execution_count": 26,
   "id": "3daf3581",
   "metadata": {},
   "outputs": [],
   "source": [
    "#Function definition\n",
    "def calculator(x, y, operation):\n",
    "    if((type(x) != int and type(x) != float) or (type(y) != int and type(y) != float) or type(operation) != str):\n",
    "        return \"Inccorect input types. Input x, y as int or float and operation as string\"\n",
    "    \n",
    "    if(operation == \"Add\"):\n",
    "        return x + y\n",
    "    elif(operation == \"Subtract\"):\n",
    "        return x - y\n",
    "    elif(operation == \"Multiply\"):\n",
    "        return x * y\n",
    "    elif(operation == \"Divide\"):\n",
    "        if(y == 0):\n",
    "            return \"Cannot divide by 0\"\n",
    "        else:\n",
    "            return x / y\n",
    "    else:\n",
    "        return \"Unsupported operation\""
   ]
  },
  {
   "cell_type": "code",
   "execution_count": 12,
   "id": "2b4dd7b7",
   "metadata": {},
   "outputs": [
    {
     "data": {
      "text/plain": [
       "12"
      ]
     },
     "execution_count": 12,
     "metadata": {},
     "output_type": "execute_result"
    }
   ],
   "source": [
    "#Call to the function\n",
    "calculator(5, 7, \"Add\")"
   ]
  },
  {
   "cell_type": "code",
   "execution_count": 28,
   "id": "36c563d1",
   "metadata": {},
   "outputs": [
    {
     "data": {
      "text/plain": [
       "13.2"
      ]
     },
     "execution_count": 28,
     "metadata": {},
     "output_type": "execute_result"
    }
   ],
   "source": [
    "#Call to the function\n",
    "calculator(5.5, 7.7, \"Add\")"
   ]
  },
  {
   "cell_type": "code",
   "execution_count": 13,
   "id": "19b45c3d",
   "metadata": {},
   "outputs": [
    {
     "data": {
      "text/plain": [
       "-2"
      ]
     },
     "execution_count": 13,
     "metadata": {},
     "output_type": "execute_result"
    }
   ],
   "source": [
    "#Call to the function\n",
    "calculator(5, 7, \"Subtract\")"
   ]
  },
  {
   "cell_type": "code",
   "execution_count": 29,
   "id": "ffd194bb",
   "metadata": {},
   "outputs": [
    {
     "data": {
      "text/plain": [
       "-2.2"
      ]
     },
     "execution_count": 29,
     "metadata": {},
     "output_type": "execute_result"
    }
   ],
   "source": [
    "#Call to the function\n",
    "calculator(5.5, 7.7, \"Subtract\")"
   ]
  },
  {
   "cell_type": "code",
   "execution_count": 14,
   "id": "ab2a0260",
   "metadata": {},
   "outputs": [
    {
     "data": {
      "text/plain": [
       "35"
      ]
     },
     "execution_count": 14,
     "metadata": {},
     "output_type": "execute_result"
    }
   ],
   "source": [
    "#Call to the function\n",
    "calculator(5, 7, \"Multiply\")"
   ]
  },
  {
   "cell_type": "code",
   "execution_count": 30,
   "id": "4f1523d7",
   "metadata": {},
   "outputs": [
    {
     "data": {
      "text/plain": [
       "42.35"
      ]
     },
     "execution_count": 30,
     "metadata": {},
     "output_type": "execute_result"
    }
   ],
   "source": [
    "#Call to the function\n",
    "calculator(5.5, 7.7, \"Multiply\")"
   ]
  },
  {
   "cell_type": "code",
   "execution_count": 15,
   "id": "c2161107",
   "metadata": {},
   "outputs": [
    {
     "data": {
      "text/plain": [
       "0.7142857142857143"
      ]
     },
     "execution_count": 15,
     "metadata": {},
     "output_type": "execute_result"
    }
   ],
   "source": [
    "#Call to the function\n",
    "calculator(5, 7, \"Divide\")"
   ]
  },
  {
   "cell_type": "code",
   "execution_count": 32,
   "id": "c8cd22c2",
   "metadata": {},
   "outputs": [
    {
     "data": {
      "text/plain": [
       "0.7142857142857143"
      ]
     },
     "execution_count": 32,
     "metadata": {},
     "output_type": "execute_result"
    }
   ],
   "source": [
    "#Call to the function\n",
    "calculator(5.5, 7.7, \"Divide\")"
   ]
  },
  {
   "cell_type": "code",
   "execution_count": 17,
   "id": "79b53059",
   "metadata": {},
   "outputs": [
    {
     "data": {
      "text/plain": [
       "'Cannot divide by 0'"
      ]
     },
     "execution_count": 17,
     "metadata": {},
     "output_type": "execute_result"
    }
   ],
   "source": [
    "#Call to the function\n",
    "calculator(16, 0, \"Divide\")"
   ]
  },
  {
   "cell_type": "code",
   "execution_count": 33,
   "id": "eda22c50",
   "metadata": {},
   "outputs": [
    {
     "data": {
      "text/plain": [
       "'Cannot divide by 0'"
      ]
     },
     "execution_count": 33,
     "metadata": {},
     "output_type": "execute_result"
    }
   ],
   "source": [
    "#Call to the function\n",
    "calculator(16.57, 0.0, \"Divide\")"
   ]
  },
  {
   "cell_type": "code",
   "execution_count": 16,
   "id": "4c203942",
   "metadata": {
    "scrolled": false
   },
   "outputs": [
    {
     "data": {
      "text/plain": [
       "'Unsupported operation'"
      ]
     },
     "execution_count": 16,
     "metadata": {},
     "output_type": "execute_result"
    }
   ],
   "source": [
    "#Call to the function\n",
    "calculator(5, 7, \"Exponent\")"
   ]
  },
  {
   "cell_type": "code",
   "execution_count": 34,
   "id": "bedaaefa",
   "metadata": {},
   "outputs": [
    {
     "data": {
      "text/plain": [
       "'Inccorect input types. Input x, y as int or float and operation as string'"
      ]
     },
     "execution_count": 34,
     "metadata": {},
     "output_type": "execute_result"
    }
   ],
   "source": [
    "#Call to the function\n",
    "calculator(5, 7, 0)"
   ]
  },
  {
   "cell_type": "code",
   "execution_count": 35,
   "id": "dcb4f1db",
   "metadata": {},
   "outputs": [
    {
     "data": {
      "text/plain": [
       "'Inccorect input types. Input x, y as int or float and operation as string'"
      ]
     },
     "execution_count": 35,
     "metadata": {},
     "output_type": "execute_result"
    }
   ],
   "source": [
    "#Call to the function\n",
    "calculator(True, False, \"Add\")"
   ]
  },
  {
   "cell_type": "code",
   "execution_count": 36,
   "id": "e802f369",
   "metadata": {},
   "outputs": [
    {
     "data": {
      "text/plain": [
       "'Inccorect input types. Input x, y as int or float and operation as string'"
      ]
     },
     "execution_count": 36,
     "metadata": {},
     "output_type": "execute_result"
    }
   ],
   "source": [
    "#Call to the function\n",
    "calculator(5, False, \"Add\")"
   ]
  },
  {
   "cell_type": "code",
   "execution_count": 37,
   "id": "b0e4fca2",
   "metadata": {},
   "outputs": [
    {
     "data": {
      "text/plain": [
       "'Inccorect input types. Input x, y as int or float and operation as string'"
      ]
     },
     "execution_count": 37,
     "metadata": {},
     "output_type": "execute_result"
    }
   ],
   "source": [
    "#Call to the function\n",
    "calculator(True, 7, \"Add\")"
   ]
  }
 ],
 "metadata": {
  "kernelspec": {
   "display_name": "Python 3",
   "language": "python",
   "name": "python3"
  },
  "language_info": {
   "codemirror_mode": {
    "name": "ipython",
    "version": 3
   },
   "file_extension": ".py",
   "mimetype": "text/x-python",
   "name": "python",
   "nbconvert_exporter": "python",
   "pygments_lexer": "ipython3",
   "version": "3.8.8"
  }
 },
 "nbformat": 4,
 "nbformat_minor": 5
}
