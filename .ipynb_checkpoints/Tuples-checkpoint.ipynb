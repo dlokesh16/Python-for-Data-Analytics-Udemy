{
 "cells": [
  {
   "cell_type": "markdown",
   "id": "a7a902d1",
   "metadata": {},
   "source": [
    "### Tuples\n",
    "In this notebook, we will go through tuples, creation and initiation, methods, functions of tuples in Python"
   ]
  },
  {
   "cell_type": "markdown",
   "id": "5ba11822",
   "metadata": {},
   "source": [
    "in python, there are sequence and collection\n",
    "* sequence is where the data output is exactly the same as the data input. elements in sequence can be accessed by index\n",
    "* collection is where the data output is not the same as data input. elements in collection can be accessed by key\n",
    "\n",
    "also in python, there are mutable objects and immutable objects\n",
    "* mutable objects can be modified post the object creation\n",
    "* immutable objects can not be modified once they are created "
   ]
  },
  {
   "cell_type": "markdown",
   "id": "ec70cd89",
   "metadata": {},
   "source": [
    "**tuple** in python is a **immutable sequence**. tuples can have mixed data types. empty tuples are declared either as **tuple()** or **( )**."
   ]
  },
  {
   "cell_type": "code",
   "execution_count": 1,
   "id": "6046c99b",
   "metadata": {},
   "outputs": [
    {
     "data": {
      "text/plain": [
       "tuple"
      ]
     },
     "execution_count": 1,
     "metadata": {},
     "output_type": "execute_result"
    }
   ],
   "source": [
    "tuple1 = (1, 2, 3, 4, 3, 4)\n",
    "type(tuple1)"
   ]
  },
  {
   "cell_type": "code",
   "execution_count": 2,
   "id": "2218740d",
   "metadata": {},
   "outputs": [
    {
     "data": {
      "text/plain": [
       "(1, 2, 3, 4, 3, 4)"
      ]
     },
     "execution_count": 2,
     "metadata": {},
     "output_type": "execute_result"
    }
   ],
   "source": [
    "tuple1"
   ]
  },
  {
   "cell_type": "code",
   "execution_count": 3,
   "id": "5dee9814",
   "metadata": {},
   "outputs": [
    {
     "data": {
      "text/plain": [
       "tuple"
      ]
     },
     "execution_count": 3,
     "metadata": {},
     "output_type": "execute_result"
    }
   ],
   "source": [
    "tuple1 = tuple()\n",
    "type(tuple1)"
   ]
  },
  {
   "cell_type": "code",
   "execution_count": 4,
   "id": "08fd0677",
   "metadata": {},
   "outputs": [
    {
     "data": {
      "text/plain": [
       "()"
      ]
     },
     "execution_count": 4,
     "metadata": {},
     "output_type": "execute_result"
    }
   ],
   "source": [
    "tuple1"
   ]
  },
  {
   "cell_type": "code",
   "execution_count": 5,
   "id": "f25db8ff",
   "metadata": {},
   "outputs": [
    {
     "data": {
      "text/plain": [
       "(1, 2, 3, 4, (4, 5, 6), 3, 4)"
      ]
     },
     "execution_count": 5,
     "metadata": {},
     "output_type": "execute_result"
    }
   ],
   "source": [
    "tuple1 = (1, 2, 3, 4, (4, 5, 6), 3, 4)\n",
    "tuple1"
   ]
  },
  {
   "cell_type": "code",
   "execution_count": 6,
   "id": "2a732d79",
   "metadata": {},
   "outputs": [],
   "source": [
    "tuple1 = (1, 2, 3, 4, 3, 4)"
   ]
  },
  {
   "cell_type": "markdown",
   "id": "c35e054e",
   "metadata": {},
   "source": [
    "**[ ]** operator is used to access tuple elements. tuples are ordered data types, meaning they have indices associated with each element. we use these indices within **[ ]** operator to extract data"
   ]
  },
  {
   "cell_type": "code",
   "execution_count": 7,
   "id": "5930d9a0",
   "metadata": {
    "scrolled": true
   },
   "outputs": [
    {
     "data": {
      "text/plain": [
       "1"
      ]
     },
     "execution_count": 7,
     "metadata": {},
     "output_type": "execute_result"
    }
   ],
   "source": [
    "tuple1[0]"
   ]
  },
  {
   "cell_type": "code",
   "execution_count": 8,
   "id": "ee158d70",
   "metadata": {},
   "outputs": [
    {
     "data": {
      "text/plain": [
       "4"
      ]
     },
     "execution_count": 8,
     "metadata": {},
     "output_type": "execute_result"
    }
   ],
   "source": [
    "tuple1[-1]"
   ]
  },
  {
   "cell_type": "markdown",
   "id": "eee1b8f4",
   "metadata": {},
   "source": [
    "**len()** function is used to get the length of the list, i.e. the number of elements in the list"
   ]
  },
  {
   "cell_type": "code",
   "execution_count": 9,
   "id": "6c1f33e7",
   "metadata": {},
   "outputs": [
    {
     "data": {
      "text/plain": [
       "6"
      ]
     },
     "execution_count": 9,
     "metadata": {},
     "output_type": "execute_result"
    }
   ],
   "source": [
    "len(tuple1)"
   ]
  },
  {
   "cell_type": "markdown",
   "id": "30782ef0",
   "metadata": {},
   "source": [
    "**tuples are immutable** meaning the values in the tuple cannot be modified, deleted after creation of the tuple. "
   ]
  },
  {
   "cell_type": "code",
   "execution_count": 10,
   "id": "a1a53cc8",
   "metadata": {},
   "outputs": [],
   "source": [
    "#throws errors as tuples cannot be modified once created\n",
    "# tuple1[0] = 5 #uncomment andrun cell to see the error"
   ]
  },
  {
   "cell_type": "markdown",
   "id": "9c9f6e56",
   "metadata": {},
   "source": [
    "**tuple methods**"
   ]
  },
  {
   "cell_type": "code",
   "execution_count": 11,
   "id": "f63cb25c",
   "metadata": {},
   "outputs": [
    {
     "data": {
      "text/plain": [
       "1"
      ]
     },
     "execution_count": 11,
     "metadata": {},
     "output_type": "execute_result"
    }
   ],
   "source": [
    "#tuple.count(value)\n",
    "tuple1.count(1) #returns the number of occurances of the element in the tuple"
   ]
  },
  {
   "cell_type": "code",
   "execution_count": 12,
   "id": "157a9283",
   "metadata": {},
   "outputs": [
    {
     "data": {
      "text/plain": [
       "2"
      ]
     },
     "execution_count": 12,
     "metadata": {},
     "output_type": "execute_result"
    }
   ],
   "source": [
    "tuple1.count(4)"
   ]
  },
  {
   "cell_type": "code",
   "execution_count": 13,
   "id": "84148abe",
   "metadata": {},
   "outputs": [
    {
     "data": {
      "text/plain": [
       "0"
      ]
     },
     "execution_count": 13,
     "metadata": {},
     "output_type": "execute_result"
    }
   ],
   "source": [
    "tuple1.count(10)"
   ]
  },
  {
   "cell_type": "code",
   "execution_count": 14,
   "id": "573f1ba1",
   "metadata": {
    "scrolled": true
   },
   "outputs": [
    {
     "data": {
      "text/plain": [
       "1"
      ]
     },
     "execution_count": 14,
     "metadata": {},
     "output_type": "execute_result"
    }
   ],
   "source": [
    "#tuple.index(value)\n",
    "tuple1.index(2) #returns the index of first occurance of the element "
   ]
  },
  {
   "cell_type": "code",
   "execution_count": 15,
   "id": "667da976",
   "metadata": {},
   "outputs": [
    {
     "data": {
      "text/plain": [
       "3"
      ]
     },
     "execution_count": 15,
     "metadata": {},
     "output_type": "execute_result"
    }
   ],
   "source": [
    "tuple1.index(4) #3 and 4 occurs twice but only the first occurance is returned"
   ]
  },
  {
   "cell_type": "code",
   "execution_count": 16,
   "id": "f204e0bd",
   "metadata": {},
   "outputs": [
    {
     "data": {
      "text/plain": [
       "4"
      ]
     },
     "execution_count": 16,
     "metadata": {},
     "output_type": "execute_result"
    }
   ],
   "source": [
    "#tuple.index(value, start index, end index)\n",
    "\n",
    "tuple1.index(3, 4, ) #returns the index of the first occurance of the element within the specified range"
   ]
  },
  {
   "cell_type": "markdown",
   "id": "df0b4918",
   "metadata": {},
   "source": [
    "**tuple functions**"
   ]
  },
  {
   "cell_type": "code",
   "execution_count": 17,
   "id": "dd713c50",
   "metadata": {},
   "outputs": [
    {
     "data": {
      "text/plain": [
       "6"
      ]
     },
     "execution_count": 17,
     "metadata": {},
     "output_type": "execute_result"
    }
   ],
   "source": [
    "#len(tuple)\n",
    "len(tuple1) #returns the numbers of elements in the tuple"
   ]
  },
  {
   "cell_type": "code",
   "execution_count": 18,
   "id": "dd9d5a5e",
   "metadata": {},
   "outputs": [
    {
     "data": {
      "text/plain": [
       "4"
      ]
     },
     "execution_count": 18,
     "metadata": {},
     "output_type": "execute_result"
    }
   ],
   "source": [
    "#max(tuple)\n",
    "max(tuple1) #returns the largest item in the tuple"
   ]
  },
  {
   "cell_type": "code",
   "execution_count": 19,
   "id": "105c4375",
   "metadata": {
    "scrolled": true
   },
   "outputs": [
    {
     "data": {
      "text/plain": [
       "(6, 7, 8, 9)"
      ]
     },
     "execution_count": 19,
     "metadata": {},
     "output_type": "execute_result"
    }
   ],
   "source": [
    "#max(tuple1, tuple2)\n",
    "tuple2 = (6, 7, 8, 9)\n",
    "max(tuple1, tuple2) #returns the largest of the two or more tuples"
   ]
  },
  {
   "cell_type": "code",
   "execution_count": 20,
   "id": "9a2cba9a",
   "metadata": {},
   "outputs": [
    {
     "data": {
      "text/plain": [
       "'hijkl'"
      ]
     },
     "execution_count": 20,
     "metadata": {},
     "output_type": "execute_result"
    }
   ],
   "source": [
    "#max(tuple, key)\n",
    "tuple3 = ('abc', 'defg', 'hijkl')\n",
    "max(tuple3, key=len) #returns the largest item in the tuple based on the key"
   ]
  },
  {
   "cell_type": "code",
   "execution_count": 21,
   "id": "81670b51",
   "metadata": {},
   "outputs": [
    {
     "data": {
      "text/plain": [
       "(6, 7, 8, 9)"
      ]
     },
     "execution_count": 21,
     "metadata": {},
     "output_type": "execute_result"
    }
   ],
   "source": [
    "#max(tuple, default)\n",
    "tuple4 = tuple()\n",
    "max(tuple4, default=tuple2) #returns the default tuple when the provided tuple is empty"
   ]
  },
  {
   "cell_type": "code",
   "execution_count": 22,
   "id": "4f6193a4",
   "metadata": {},
   "outputs": [],
   "source": [
    "#throws an error when the provided tuple is empty and no default specified\n",
    "# max(tuple4) #uncomment and run cell to see the error"
   ]
  },
  {
   "cell_type": "code",
   "execution_count": 23,
   "id": "55a48551",
   "metadata": {},
   "outputs": [
    {
     "data": {
      "text/plain": [
       "1"
      ]
     },
     "execution_count": 23,
     "metadata": {},
     "output_type": "execute_result"
    }
   ],
   "source": [
    "#min(tuple)\n",
    "min(tuple1) #returns the smallest item in the tuple"
   ]
  },
  {
   "cell_type": "code",
   "execution_count": 24,
   "id": "16ff4030",
   "metadata": {
    "scrolled": true
   },
   "outputs": [
    {
     "data": {
      "text/plain": [
       "(1, 2, 3, 4, 3, 4)"
      ]
     },
     "execution_count": 24,
     "metadata": {},
     "output_type": "execute_result"
    }
   ],
   "source": [
    "#min(tuple1, tuple2)\n",
    "min(tuple1, tuple2) #returns the smallest of the two or more tuples"
   ]
  },
  {
   "cell_type": "code",
   "execution_count": 25,
   "id": "fbe85b90",
   "metadata": {},
   "outputs": [
    {
     "data": {
      "text/plain": [
       "'abc'"
      ]
     },
     "execution_count": 25,
     "metadata": {},
     "output_type": "execute_result"
    }
   ],
   "source": [
    "#min(tuple, key)\n",
    "min(tuple3, key=len) #returns the smallest item in the tuple based on the key"
   ]
  },
  {
   "cell_type": "code",
   "execution_count": 26,
   "id": "72b85e85",
   "metadata": {},
   "outputs": [
    {
     "data": {
      "text/plain": [
       "('abc', 'defg', 'hijkl')"
      ]
     },
     "execution_count": 26,
     "metadata": {},
     "output_type": "execute_result"
    }
   ],
   "source": [
    "#min(tuple, default)\n",
    "tuple4 = tuple()\n",
    "min(tuple4, default=tuple3) #returns the default tuple when the provided tuple is empty"
   ]
  },
  {
   "cell_type": "code",
   "execution_count": 27,
   "id": "3eec3e1f",
   "metadata": {},
   "outputs": [],
   "source": [
    "#throws an error when the provided tuple is empty and no default specified\n",
    "# min(tuple4) #uncomment and run cell to see the error"
   ]
  },
  {
   "cell_type": "code",
   "execution_count": 28,
   "id": "6ad58f57",
   "metadata": {
    "scrolled": true
   },
   "outputs": [
    {
     "data": {
      "text/plain": [
       "[1, 2, 3, 4, 3, 4]"
      ]
     },
     "execution_count": 28,
     "metadata": {},
     "output_type": "execute_result"
    }
   ],
   "source": [
    "#list(tuple)\n",
    "list(tuple1) #converts the given tuple to a list"
   ]
  }
 ],
 "metadata": {
  "kernelspec": {
   "display_name": "Python 3",
   "language": "python",
   "name": "python3"
  },
  "language_info": {
   "codemirror_mode": {
    "name": "ipython",
    "version": 3
   },
   "file_extension": ".py",
   "mimetype": "text/x-python",
   "name": "python",
   "nbconvert_exporter": "python",
   "pygments_lexer": "ipython3",
   "version": "3.8.8"
  }
 },
 "nbformat": 4,
 "nbformat_minor": 5
}
