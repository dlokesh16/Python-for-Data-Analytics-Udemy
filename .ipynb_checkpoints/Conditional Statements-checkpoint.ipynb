{
 "cells": [
  {
   "cell_type": "markdown",
   "id": "e726edab",
   "metadata": {},
   "source": [
    "### If statement"
   ]
  },
  {
   "cell_type": "code",
   "execution_count": 11,
   "id": "4e06f3d2",
   "metadata": {},
   "outputs": [],
   "source": [
    "import numpy as np\n",
    "from numpy.random import randn as rand"
   ]
  },
  {
   "cell_type": "code",
   "execution_count": 20,
   "id": "dbd52a9d",
   "metadata": {},
   "outputs": [
    {
     "name": "stdout",
     "output_type": "stream",
     "text": [
      "1.0227159824062448\n",
      "Greater than 1\n"
     ]
    }
   ],
   "source": [
    "# If statement\n",
    "\n",
    "answer = None\n",
    "x = rand()\n",
    "\n",
    "if x > 1:\n",
    "    answer = 'Greater than 1'\n",
    "print(x)\n",
    "print(answer)"
   ]
  },
  {
   "cell_type": "code",
   "execution_count": 21,
   "id": "3d77dbcf",
   "metadata": {},
   "outputs": [
    {
     "name": "stdout",
     "output_type": "stream",
     "text": [
      "1.2188807312360306\n",
      "Greater than 1\n"
     ]
    }
   ],
   "source": [
    "# If-Else statement\n",
    "\n",
    "answer = None\n",
    "x = rand()\n",
    "\n",
    "if x > 1:\n",
    "    answer = 'Greater than 1'\n",
    "else:\n",
    "    answer = 'Less than 1'\n",
    "print(x)\n",
    "print(answer)"
   ]
  },
  {
   "cell_type": "code",
   "execution_count": 31,
   "id": "605460c3",
   "metadata": {},
   "outputs": [
    {
     "name": "stdout",
     "output_type": "stream",
     "text": [
      "-0.4096443725109373\n",
      "Between -1 and 1\n"
     ]
    }
   ],
   "source": [
    "# Nested-If statement\n",
    "\n",
    "answer = None\n",
    "x = rand()\n",
    "\n",
    "if x > 1:\n",
    "    answer = 'Greater than 1'\n",
    "else:\n",
    "    if x >= -1:\n",
    "        answer = 'Between -1 and 1'\n",
    "    else:\n",
    "        answer = 'Less than -1'\n",
    "print(x)\n",
    "print(answer)"
   ]
  },
  {
   "cell_type": "code",
   "execution_count": 43,
   "id": "be80ac36",
   "metadata": {},
   "outputs": [
    {
     "name": "stdout",
     "output_type": "stream",
     "text": [
      "-2.472506911960491\n",
      "Less than -1\n"
     ]
    }
   ],
   "source": [
    "# Chained-If statements\n",
    "\n",
    "answer = None\n",
    "x = rand()\n",
    "\n",
    "if x > 1:\n",
    "    answer = 'Greater than 1'\n",
    "elif x >= -1:\n",
    "    answer = 'Between -1 and 1'\n",
    "else:\n",
    "    answer = 'Less than -1'\n",
    "print(x)\n",
    "print(answer)"
   ]
  }
 ],
 "metadata": {
  "kernelspec": {
   "display_name": "Python 3",
   "language": "python",
   "name": "python3"
  },
  "language_info": {
   "codemirror_mode": {
    "name": "ipython",
    "version": 3
   },
   "file_extension": ".py",
   "mimetype": "text/x-python",
   "name": "python",
   "nbconvert_exporter": "python",
   "pygments_lexer": "ipython3",
   "version": "3.8.8"
  }
 },
 "nbformat": 4,
 "nbformat_minor": 5
}
