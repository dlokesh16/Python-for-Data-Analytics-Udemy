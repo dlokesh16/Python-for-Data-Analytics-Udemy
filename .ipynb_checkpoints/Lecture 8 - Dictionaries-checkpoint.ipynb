{
 "cells": [
  {
   "cell_type": "markdown",
   "id": "602593b8",
   "metadata": {},
   "source": [
    "### Dictionaries\n",
    "In this notebook, we will go through dictionaries, creation and initiation, accessing elements"
   ]
  },
  {
   "cell_type": "markdown",
   "id": "887e05c4",
   "metadata": {},
   "source": [
    "**dictionary** in python is a **mutable collection**. dictionaries are a collection of key:value pairs. dictionaries can have mixed data types. empty dictionaries are declared either as **dict()** or **{ }**.\n",
    "<br>dictionaries are used if we need to access the data using keys and not the indices."
   ]
  },
  {
   "cell_type": "code",
   "execution_count": 1,
   "id": "b25427e5",
   "metadata": {},
   "outputs": [
    {
     "data": {
      "text/plain": [
       "{'key1': 'val1', 'key2': 'val2', 'key3': 'val3'}"
      ]
     },
     "execution_count": 1,
     "metadata": {},
     "output_type": "execute_result"
    }
   ],
   "source": [
    "dict1 = {'key1':'val1','key2':'val2','key3':'val3'}\n",
    "dict1"
   ]
  },
  {
   "cell_type": "markdown",
   "id": "23bfeaa7",
   "metadata": {},
   "source": [
    "accessing dictionary elements is similar to accessing list or tuple but instead of index, we will specify the **key**"
   ]
  },
  {
   "cell_type": "code",
   "execution_count": 2,
   "id": "e6aaf35d",
   "metadata": {},
   "outputs": [
    {
     "data": {
      "text/plain": [
       "'val1'"
      ]
     },
     "execution_count": 2,
     "metadata": {},
     "output_type": "execute_result"
    }
   ],
   "source": [
    "dict1['key1']"
   ]
  },
  {
   "cell_type": "code",
   "execution_count": 3,
   "id": "f27f44d2",
   "metadata": {},
   "outputs": [
    {
     "data": {
      "text/plain": [
       "'val2'"
      ]
     },
     "execution_count": 3,
     "metadata": {},
     "output_type": "execute_result"
    }
   ],
   "source": [
    "dict1['key2']"
   ]
  },
  {
   "cell_type": "code",
   "execution_count": 4,
   "id": "1fd21bd8",
   "metadata": {},
   "outputs": [
    {
     "data": {
      "text/plain": [
       "'val3'"
      ]
     },
     "execution_count": 4,
     "metadata": {},
     "output_type": "execute_result"
    }
   ],
   "source": [
    "dict1['key3']"
   ]
  },
  {
   "cell_type": "code",
   "execution_count": 18,
   "id": "e450f537",
   "metadata": {},
   "outputs": [
    {
     "data": {
      "text/plain": [
       "{'Germany': 'I have not been there', 'Canada': 0, 'Spain': False}"
      ]
     },
     "execution_count": 18,
     "metadata": {},
     "output_type": "execute_result"
    }
   ],
   "source": [
    "dict2 = {'Germany':'I have not been there','Canada':0,'Spain':False} #dictionaries can store mix of data types\n",
    "dict2"
   ]
  },
  {
   "cell_type": "code",
   "execution_count": 19,
   "id": "aeb89d7e",
   "metadata": {},
   "outputs": [
    {
     "data": {
      "text/plain": [
       "'I have not been there'"
      ]
     },
     "execution_count": 19,
     "metadata": {},
     "output_type": "execute_result"
    }
   ],
   "source": [
    "dict2['Germany']"
   ]
  },
  {
   "cell_type": "code",
   "execution_count": 20,
   "id": "69066e34",
   "metadata": {},
   "outputs": [
    {
     "data": {
      "text/plain": [
       "0"
      ]
     },
     "execution_count": 20,
     "metadata": {},
     "output_type": "execute_result"
    }
   ],
   "source": [
    "dict2['Canada']"
   ]
  },
  {
   "cell_type": "code",
   "execution_count": 21,
   "id": "8ded06c0",
   "metadata": {},
   "outputs": [
    {
     "data": {
      "text/plain": [
       "False"
      ]
     },
     "execution_count": 21,
     "metadata": {},
     "output_type": "execute_result"
    }
   ],
   "source": [
    "dict2['Spain']"
   ]
  }
 ],
 "metadata": {
  "kernelspec": {
   "display_name": "Python 3",
   "language": "python",
   "name": "python3"
  },
  "language_info": {
   "codemirror_mode": {
    "name": "ipython",
    "version": 3
   },
   "file_extension": ".py",
   "mimetype": "text/x-python",
   "name": "python",
   "nbconvert_exporter": "python",
   "pygments_lexer": "ipython3",
   "version": "3.8.8"
  }
 },
 "nbformat": 4,
 "nbformat_minor": 5
}
