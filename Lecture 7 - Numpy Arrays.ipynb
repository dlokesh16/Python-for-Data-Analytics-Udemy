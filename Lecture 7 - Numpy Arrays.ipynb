{
 "cells": [
  {
   "cell_type": "markdown",
   "id": "3713703e",
   "metadata": {},
   "source": [
    "The difference between a **list** and an **array** is that **list can contain a mix of datatypes** but **an array can contain elements of only one datatype** "
   ]
  },
  {
   "cell_type": "code",
   "execution_count": 4,
   "id": "bde28310",
   "metadata": {},
   "outputs": [],
   "source": [
    "import numpy as np"
   ]
  },
  {
   "cell_type": "code",
   "execution_count": 5,
   "id": "bf903b56",
   "metadata": {},
   "outputs": [],
   "source": [
    "list1 = [1, 2.3, True, 'List']"
   ]
  },
  {
   "cell_type": "code",
   "execution_count": 6,
   "id": "a42e5796",
   "metadata": {},
   "outputs": [
    {
     "name": "stdout",
     "output_type": "stream",
     "text": [
      "[1, 2.3, True, 'List']\n"
     ]
    }
   ],
   "source": [
    "print(list1) #datatypes are preserved"
   ]
  },
  {
   "cell_type": "code",
   "execution_count": 8,
   "id": "356ed965",
   "metadata": {},
   "outputs": [],
   "source": [
    "array1 = np.array([1, 2.3, True, 'List'])"
   ]
  },
  {
   "cell_type": "code",
   "execution_count": 29,
   "id": "20063fbe",
   "metadata": {},
   "outputs": [
    {
     "name": "stdout",
     "output_type": "stream",
     "text": [
      "['1.1' '2.2' '3.3' 'String']\n"
     ]
    }
   ],
   "source": [
    "print(array1) #contains only one datatype"
   ]
  },
  {
   "cell_type": "markdown",
   "id": "ed07f575",
   "metadata": {},
   "source": [
    "np.array() converts all the mixed datatypes to a single datatype internally which can accommodate all the elements"
   ]
  },
  {
   "cell_type": "code",
   "execution_count": 17,
   "id": "6f82e1f9",
   "metadata": {},
   "outputs": [],
   "source": [
    "array1 = np.array([1, 2, 3, True])"
   ]
  },
  {
   "cell_type": "code",
   "execution_count": 18,
   "id": "c593b913",
   "metadata": {},
   "outputs": [
    {
     "name": "stdout",
     "output_type": "stream",
     "text": [
      "[1 2 3 1]\n"
     ]
    }
   ],
   "source": [
    "print(array1) #boolean is converted to int"
   ]
  },
  {
   "cell_type": "code",
   "execution_count": 19,
   "id": "1fdc66e4",
   "metadata": {},
   "outputs": [],
   "source": [
    "array1 = np.array([1.1, 2.2, 3.3, True])"
   ]
  },
  {
   "cell_type": "code",
   "execution_count": 20,
   "id": "8cd2e6dc",
   "metadata": {},
   "outputs": [
    {
     "name": "stdout",
     "output_type": "stream",
     "text": [
      "[1.1 2.2 3.3 1. ]\n"
     ]
    }
   ],
   "source": [
    "print(array1) #boolean is converted to float"
   ]
  },
  {
   "cell_type": "code",
   "execution_count": 21,
   "id": "b4028299",
   "metadata": {},
   "outputs": [],
   "source": [
    "array1 = np.array([True, False, 'True', 'False'])"
   ]
  },
  {
   "cell_type": "code",
   "execution_count": 22,
   "id": "9c39f73a",
   "metadata": {},
   "outputs": [
    {
     "name": "stdout",
     "output_type": "stream",
     "text": [
      "['True' 'False' 'True' 'False']\n"
     ]
    }
   ],
   "source": [
    "print(array1) #boolean is converted to string"
   ]
  },
  {
   "cell_type": "code",
   "execution_count": 23,
   "id": "943b3e96",
   "metadata": {},
   "outputs": [],
   "source": [
    "array1 = np.array([1, 2, 3.3])"
   ]
  },
  {
   "cell_type": "code",
   "execution_count": 24,
   "id": "5091947d",
   "metadata": {},
   "outputs": [
    {
     "name": "stdout",
     "output_type": "stream",
     "text": [
      "[1.  2.  3.3]\n"
     ]
    }
   ],
   "source": [
    "print(array1) #int is converted to float"
   ]
  },
  {
   "cell_type": "code",
   "execution_count": 25,
   "id": "e0234325",
   "metadata": {},
   "outputs": [],
   "source": [
    "array1 = np.array([1, 2, 3, 'String'])"
   ]
  },
  {
   "cell_type": "code",
   "execution_count": 26,
   "id": "468d599b",
   "metadata": {},
   "outputs": [
    {
     "name": "stdout",
     "output_type": "stream",
     "text": [
      "['1' '2' '3' 'String']\n"
     ]
    }
   ],
   "source": [
    "print(array1) #int is converted to string"
   ]
  },
  {
   "cell_type": "code",
   "execution_count": 27,
   "id": "3286a84f",
   "metadata": {},
   "outputs": [],
   "source": [
    "array1 = np.array([1.1, 2.2, 3.3, 'String'])"
   ]
  },
  {
   "cell_type": "code",
   "execution_count": 28,
   "id": "60b392ad",
   "metadata": {
    "scrolled": true
   },
   "outputs": [
    {
     "name": "stdout",
     "output_type": "stream",
     "text": [
      "['1.1' '2.2' '3.3' 'String']\n"
     ]
    }
   ],
   "source": [
    "print(array1) #float is converted to string"
   ]
  },
  {
   "cell_type": "markdown",
   "id": "f839fdd7",
   "metadata": {},
   "source": [
    "Also, numpy arrays have many in-built methods when compared to python lists which are very useful for analytics and data science"
   ]
  }
 ],
 "metadata": {
  "kernelspec": {
   "display_name": "Python 3",
   "language": "python",
   "name": "python3"
  },
  "language_info": {
   "codemirror_mode": {
    "name": "ipython",
    "version": 3
   },
   "file_extension": ".py",
   "mimetype": "text/x-python",
   "name": "python",
   "nbconvert_exporter": "python",
   "pygments_lexer": "ipython3",
   "version": "3.8.8"
  }
 },
 "nbformat": 4,
 "nbformat_minor": 5
}
